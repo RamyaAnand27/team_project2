{
 "cells": [
  {
   "cell_type": "code",
   "execution_count": 5,
   "metadata": {},
   "outputs": [],
   "source": [
    "import pickle\n",
    "\n",
    "# Importing training and testing data\n",
    "with open('Artifacts/preprocessed_data.pkl', 'rb') as file:\n",
    "    x_train = pickle.load(file)\n",
    "    y_train = pickle.load(file)\n",
    "    x_val = pickle.load(file)\n",
    "    y_val = pickle.load(file)\n",
    "    "
   ]
  },
  {
   "cell_type": "markdown",
   "metadata": {},
   "source": [
    "**Task 2: Model Development - Create a Baseline CNN Model**\n",
    "\n",
    "Designing and building a CNN architecture using convolutional layers, max pooling layers, and dense layers."
   ]
  },
  {
   "cell_type": "code",
   "execution_count": 6,
   "metadata": {},
   "outputs": [
    {
     "name": "stdout",
     "output_type": "stream",
     "text": [
      "Model: \"sequential_1\"\n",
      "_________________________________________________________________\n",
      " Layer (type)                Output Shape              Param #   \n",
      "=================================================================\n",
      " conv2d_1 (Conv2D)           (None, 148, 148, 32)      896       \n",
      "                                                                 \n",
      " max_pooling2d_1 (MaxPooling  (None, 74, 74, 32)       0         \n",
      " 2D)                                                             \n",
      "                                                                 \n",
      " flatten_1 (Flatten)         (None, 175232)            0         \n",
      "                                                                 \n",
      " dense_2 (Dense)             (None, 64)                11214912  \n",
      "                                                                 \n",
      " dense_3 (Dense)             (None, 4)                 260       \n",
      "                                                                 \n",
      "=================================================================\n",
      "Total params: 11,216,068\n",
      "Trainable params: 11,216,068\n",
      "Non-trainable params: 0\n",
      "_________________________________________________________________\n"
     ]
    }
   ],
   "source": [
    "from keras.models import Sequential\n",
    "from keras.layers import Conv2D, MaxPooling2D, Flatten, Dense\n",
    "\n",
    "model = Sequential()\n",
    "\n",
    "# Input layer\n",
    "model.add(Conv2D(32, (3, 3), activation='relu', input_shape=(150, 150, 3)))\n",
    "model.add(MaxPooling2D((2, 2)))\n",
    "\n",
    "# Add more layers here as needed\n",
    "model.add(Flatten())\n",
    "model.add(Dense(64, activation='relu'))\n",
    "\n",
    "# Output layer\n",
    "model.add(Dense(4, activation='softmax'))\n",
    "\n",
    "# Print the model summary\n",
    "model.summary()"
   ]
  },
  {
   "cell_type": "code",
   "execution_count": 7,
   "metadata": {},
   "outputs": [],
   "source": [
    "model.compile(optimizer='adam',\n",
    "              loss='categorical_crossentropy',\n",
    "              metrics=['accuracy'])"
   ]
  },
  {
   "cell_type": "code",
   "execution_count": 8,
   "metadata": {},
   "outputs": [
    {
     "name": "stdout",
     "output_type": "stream",
     "text": [
      "Epoch 1/10\n",
      "8/8 [==============================] - 3s 267ms/step - loss: 22.5663 - accuracy: 0.2694 - val_loss: 14.0704 - val_accuracy: 0.2581\n",
      "Epoch 2/10\n",
      "8/8 [==============================] - 2s 226ms/step - loss: 8.6235 - accuracy: 0.2857 - val_loss: 2.3358 - val_accuracy: 0.1935\n",
      "Epoch 3/10\n",
      "8/8 [==============================] - 2s 229ms/step - loss: 2.1519 - accuracy: 0.4653 - val_loss: 1.7867 - val_accuracy: 0.2742\n",
      "Epoch 4/10\n",
      "8/8 [==============================] - 2s 257ms/step - loss: 0.7475 - accuracy: 0.7020 - val_loss: 0.9542 - val_accuracy: 0.6774\n",
      "Epoch 5/10\n",
      "8/8 [==============================] - 2s 325ms/step - loss: 0.3429 - accuracy: 0.8939 - val_loss: 0.8081 - val_accuracy: 0.7903\n",
      "Epoch 6/10\n",
      "8/8 [==============================] - 2s 231ms/step - loss: 0.2093 - accuracy: 0.9551 - val_loss: 0.6996 - val_accuracy: 0.7742\n",
      "Epoch 7/10\n",
      "8/8 [==============================] - 2s 321ms/step - loss: 0.1017 - accuracy: 1.0000 - val_loss: 0.7088 - val_accuracy: 0.7903\n",
      "Epoch 8/10\n",
      "8/8 [==============================] - 2s 250ms/step - loss: 0.0542 - accuracy: 1.0000 - val_loss: 0.7100 - val_accuracy: 0.8226\n",
      "Epoch 9/10\n",
      "8/8 [==============================] - 2s 213ms/step - loss: 0.0325 - accuracy: 1.0000 - val_loss: 0.7715 - val_accuracy: 0.7581\n",
      "Epoch 10/10\n",
      "8/8 [==============================] - 2s 216ms/step - loss: 0.0207 - accuracy: 1.0000 - val_loss: 0.8018 - val_accuracy: 0.7581\n"
     ]
    }
   ],
   "source": [
    "history = model.fit(\n",
    "    x_train,                # Training data\n",
    "    y_train,                # Training labels (one-hot encoded)\n",
    "    epochs=10,              # Number of epochs to train\n",
    "    batch_size=32,          # Batch size\n",
    "    validation_data=(x_val, y_val),  # Validation data\n",
    ")"
   ]
  },
  {
   "cell_type": "code",
   "execution_count": 9,
   "metadata": {},
   "outputs": [
    {
     "name": "stdout",
     "output_type": "stream",
     "text": [
      "2/2 [==============================] - 0s 40ms/step\n",
      "F1 Score: 0.7600\n"
     ]
    }
   ],
   "source": [
    "from sklearn.metrics import f1_score\n",
    "import numpy as np\n",
    "\n",
    "# Predict on validation data\n",
    "y_val_pred = model.predict(x_val)\n",
    "y_val_pred_classes = np.argmax(y_val_pred, axis=1)\n",
    "y_val_true_classes = np.argmax(y_val, axis=1)\n",
    "\n",
    "# Calculate F1 score\n",
    "f1 = f1_score(y_val_true_classes, y_val_pred_classes, average='weighted')\n",
    "print(f\"F1 Score: {f1:.4f}\")"
   ]
  },
  {
   "cell_type": "code",
   "execution_count": 10,
   "metadata": {},
   "outputs": [
    {
     "data": {
      "image/png": "[encoded data removed]",
      "text/plain": [
       "<Figure size 640x480 with 1 Axes>"
      ]
     },
     "metadata": {},
     "output_type": "display_data"
    }
   ],
   "source": [
    "import matplotlib.pyplot as plt\n",
    "\n",
    "# Plot training accuracy and validation accuracy\n",
    "plt.plot(history.history['accuracy'], label='Training Accuracy')\n",
    "plt.plot(history.history['val_accuracy'], label='Validation Accuracy')\n",
    "plt.xlabel('Epochs')\n",
    "plt.ylabel('Accuracy')\n",
    "plt.title('Training and Validation Accuracy')\n",
    "plt.legend()\n",
    "plt.show()"
   ]
  },
  {
   "cell_type": "markdown",
   "metadata": {},
   "source": [
    "The baseline model showcases a perfect accuracy of 100% which is good while the validation accuracy is only around 70%. So, there is still room for improvement which can be improved by advancing the model with more layers or fine tuning the hyper parameters. The F1 score metric also looks good which denotes the model is not overfitting and baselined in right direction."
   ]
  },
  {
   "cell_type": "code",
   "execution_count": 11,
   "metadata": {},
   "outputs": [
    {
     "name": "stderr",
     "output_type": "stream",
     "text": [
      "WARNING:absl:Found untraced functions such as _jit_compiled_convolution_op while saving (showing 1 of 1). These functions will not be directly callable after loading.\n"
     ]
    },
    {
     "name": "stdout",
     "output_type": "stream",
     "text": [
      "INFO:tensorflow:Assets written to: ram://bd8be095-2e23-453e-9155-5199d33bad67/assets\n"
     ]
    },
    {
     "name": "stderr",
     "output_type": "stream",
     "text": [
      "INFO:tensorflow:Assets written to: ram://bd8be095-2e23-453e-9155-5199d33bad67/assets\n",
      "WARNING:absl:Found untraced functions such as _jit_compiled_convolution_op while saving (showing 1 of 1). These functions will not be directly callable after loading.\n"
     ]
    },
    {
     "name": "stdout",
     "output_type": "stream",
     "text": [
      "INFO:tensorflow:Assets written to: ram://cc896e62-90a1-4475-9ecb-e17791677c72/assets\n"
     ]
    },
    {
     "name": "stderr",
     "output_type": "stream",
     "text": [
      "INFO:tensorflow:Assets written to: ram://cc896e62-90a1-4475-9ecb-e17791677c72/assets\n"
     ]
    }
   ],
   "source": [
    "# Export baseline model\n",
    "\n",
    "with open('Artifacts/baseline_model.pkl', 'wb') as file:\n",
    "    pickle.dump(model, file)\n",
    "    pickle.dump(history, file)"
   ]
  }
 ],
 "metadata": {
  "kernelspec": {
   "display_name": "dsi_participant",
   "language": "python",
   "name": "python3"
  },
  "language_info": {
   "codemirror_mode": {
    "name": "ipython",
    "version": 3
   },
   "file_extension": ".py",
   "mimetype": "text/x-python",
   "name": "python",
   "nbconvert_exporter": "python",
   "pygments_lexer": "ipython3",
   "version": "3.9.15"
  }
 },
 "nbformat": 4,
 "nbformat_minor": 2
}
