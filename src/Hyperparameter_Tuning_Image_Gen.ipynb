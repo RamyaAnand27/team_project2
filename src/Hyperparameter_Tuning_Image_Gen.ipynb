{
 "cells": [
  {
   "cell_type": "markdown",
   "metadata": {},
   "source": [
    "#  **Hyperparameter Tuning and Image Augmentation for CNN**\n",
    "\n",
    " This Jupyter notebook encompasses two primary tasks:\n",
    "\n",
    "1. **Hyperparameter Tuning:** This section focuses on optimizing the architecture and training parameters of a Convolutional Neural Network (CNN) using Keras Tuner. The goal is to find the best combination of hyperparameters to enhance model performance.\n",
    "\n",
    "2. **Image Augmentation and Model Training:** This part involves applying image augmentation technique to the training data to improve model generalization. After augmentation, the model is trained on the augmented dataset. Finally, both the tuned model and the augmented model are saved for future use and evaluation on validation sets.\n",
    "\n",
    "Each task is detailed in subsequent sections of the notebook, with code and results.\n"
   ]
  },
  {
   "cell_type": "markdown",
   "metadata": {},
   "source": [
    "## *Loading Preprocessed Data*\n",
    "\n",
    ">The below code loads preprocessed data from a serialized file using Python's `pickle` module. The data includes training, validation, and test sets for features and labels.\n"
   ]
  },
  {
   "cell_type": "code",
   "execution_count": 32,
   "metadata": {},
   "outputs": [],
   "source": [
    "import pickle\n",
    "\n",
    "# Open the file \n",
    "with open('Artifacts/preprocessed_data.pkl', 'rb') as file:\n",
    "    # Load the preprocessed training data \n",
    "    x_train = pickle.load(file)\n",
    "    y_train = pickle.load(file)\n",
    "    \n",
    "    # Load the preprocessed validation data\n",
    "    x_val = pickle.load(file)\n",
    "    y_val = pickle.load(file)\n",
    "    \n",
    "    # Load the preprocessed test data\n",
    "    x_test = pickle.load(file)\n",
    "    y_test = pickle.load(file)"
   ]
  },
  {
   "cell_type": "markdown",
   "metadata": {},
   "source": [
    "### *Counting Class Instances in a Dataset*\n",
    "\n",
    ">count the number of instances for each class in a dataset where the labels are one-hot encoded providing a clear overview of the balanced class distribution in the training dataset.\n"
   ]
  },
  {
   "cell_type": "code",
   "execution_count": 61,
   "metadata": {},
   "outputs": [
    {
     "name": "stdout",
     "output_type": "stream",
     "text": [
      "Class 0: 54 instances\n",
      "Class 1: 64 instances\n",
      "Class 2: 65 instances\n",
      "Class 3: 62 instances\n"
     ]
    }
   ],
   "source": [
    "import numpy as np\n",
    "from collections import Counter\n",
    "\n",
    "class_labels = np.argmax(y_train, axis=1)\n",
    "\n",
    "class_counts = Counter(class_labels)\n",
    "\n",
    "for class_label, count in class_counts.items():\n",
    "    print(f\"Class {class_label}: {count} instances\")\n"
   ]
  },
  {
   "cell_type": "markdown",
   "metadata": {},
   "source": [
    "## *CNN Model with Hyperparameter Optimization*\n",
    "\n",
    ">The below code defines a Convolutional Neural Network (CNN) model designed for image classification, with built-in hyperparameter optimization using Keras Tuner.\n"
   ]
  },
  {
   "cell_type": "markdown",
   "metadata": {},
   "source": [
    "### Define the Model Building Function with Hyperparameter Optimization\n",
    "\n",
    ">This section defines the `build_model` function, which constructs a Convolutional Neural Network (CNN) model using Keras with hyperparameter optimization capabilities. The function initializes a `Sequential` model and starts with a convolutional layer where the number of filters is dynamically set through hyperparameters. It includes a max pooling layer to reduce spatial dimensions and adds additional convolutional layers based on the hyperparameter `conv_layers`, each followed by max pooling. After flattening the feature maps, the model adds a dense layer with a customizable number of units, and an output layer with 4 units and softmax activation for classification. The optimizer is selected based on the `optimizer` hyperparameter, allowing either Adam or SGD with specific configurations for learning rates and other parameters. Finally, the model is compiled with categorical crossentropy loss and accuracy as the evaluation metric, preparing it for training.\n"
   ]
  },
  {
   "cell_type": "code",
   "execution_count": 33,
   "metadata": {},
   "outputs": [],
   "source": [
    "from tensorflow.keras.models import Sequential\n",
    "from tensorflow.keras.layers import Conv2D, MaxPooling2D, Flatten, Dense\n",
    "from tensorflow.keras.optimizers import Adam, SGD\n",
    "import numpy as np\n",
    "import tensorflow as tf\n",
    "\n",
    "# Set the random seed for consistency in results\n",
    "np.random.seed(42)\n",
    "tf.random.set_seed(42)\n",
    "\n",
    "# Function to construct the CNN model with hyperparameter optimization\n",
    "def build_model(hp):\n",
    "    # Initialize a Sequential model\n",
    "    model = Sequential()\n",
    "    \n",
    "    # Add the initial convolutional layer\n",
    "    model.add(Conv2D(hp.Int('filters', min_value=32, max_value=128, step=32), \n",
    "                     (3, 3), activation='relu', input_shape=(150, 150, 3)))\n",
    "    \n",
    "    # Include a max pooling layer to reduce the spatial dimensions\n",
    "    model.add(MaxPooling2D((2, 2)))\n",
    "    \n",
    "    # Insert additional convolutional layers based on the 'conv_layers' hyperparameter\n",
    "    for i in range(hp.Int('conv_layers', 1, 3)):\n",
    "        # Add a convolutional layer with configurable filters and kernel size\n",
    "        model.add(\n",
    "            Conv2D(\n",
    "                filters=hp.Int(f'filters_{i+2}', min_value=32, max_value=128, step=32),\n",
    "                kernel_size=hp.Choice(f'kernel_size_{i+2}', values=[3, 5]),\n",
    "                activation='relu'\n",
    "            )\n",
    "        )\n",
    "        # Follow each convolutional layer with a max pooling layer\n",
    "        model.add(MaxPooling2D(pool_size=(2, 2)))\n",
    "\n",
    "    # Flatten the features to prepare for dense layers\n",
    "    model.add(Flatten())\n",
    "    \n",
    "    # Add a dense layer with a customizable number of units\n",
    "    model.add(Dense(hp.Int('dense_units', min_value=64, max_value=128, step=32), \n",
    "                    activation='relu'))\n",
    "    \n",
    "    # Define the output layer with 4 units for classification and softmax activation\n",
    "    model.add(Dense(4, activation='softmax'))\n",
    "\n",
    "    # Select the optimizer type based on the 'optimizer' hyperparameter\n",
    "    optimizer_type = hp.Choice('optimizer', values=['adam', 'sgd'])\n",
    "    \n",
    "    # Configure the Adam optimizer if it's selected\n",
    "    if optimizer_type == 'adam':\n",
    "        optimizer = Adam(\n",
    "            learning_rate=hp.Float('learning_rate', min_value=0.00001, max_value=0.01, sampling='log'),\n",
    "            beta_1=hp.Float('beta_1', min_value=0.8, max_value=0.99, step=0.01),\n",
    "            beta_2=hp.Float('beta_2', min_value=0.9, max_value=0.999, step=0.001),\n",
    "            epsilon=hp.Float('epsilon', min_value=1e-8, max_value=1e-6, sampling='log')\n",
    "        )\n",
    "    \n",
    "    # Configure the SGD optimizer if it's selected\n",
    "    elif optimizer_type == 'sgd':\n",
    "        optimizer = SGD(\n",
    "            learning_rate=hp.Float('learning_rate', min_value=0.00001, max_value=0.01, sampling='log'),\n",
    "            momentum=hp.Float('momentum', min_value=0.0, max_value=0.9, step=0.1)\n",
    "        )\n",
    "    \n",
    "    # Compile the model using the selected optimizer and loss function\n",
    "    model.compile(optimizer=optimizer, loss='categorical_crossentropy', metrics=['accuracy'])\n",
    "    \n",
    "    return model\n",
    "\n",
    "\n"
   ]
  },
  {
   "cell_type": "markdown",
   "metadata": {},
   "source": [
    "### Hyperparameter Tuning\n",
    "\n",
    ">This section sets up and performs hyperparameter tuning using Keras Tuner's `RandomSearch`. It configures the tuner with a specific objective, search parameters, and seed for reproducibility. After running the search, it retrieves and prints the best model and hyperparameters found during the tuning process.\n"
   ]
  },
  {
   "cell_type": "code",
   "execution_count": 34,
   "metadata": {},
   "outputs": [
    {
     "name": "stdout",
     "output_type": "stream",
     "text": [
      "Trial 5 Complete [00h 00m 34s]\n",
      "val_accuracy: 0.7903226017951965\n",
      "\n",
      "Best val_accuracy So Far: 0.7903226017951965\n",
      "Total elapsed time: 00h 03m 05s\n",
      "Best hyperparameters:\n",
      "filters: 128\n",
      "conv_layers: 1\n",
      "filters_2: 64\n",
      "kernel_size_2: 3\n",
      "dense_units: 64\n",
      "optimizer: adam\n",
      "learning_rate: 0.00018328792004345589\n",
      "beta_1: 0.9700000000000001\n",
      "beta_2: 0.9540000000000001\n",
      "epsilon: 3.3137745378583986e-07\n",
      "filters_3: 64\n",
      "kernel_size_3: 3\n"
     ]
    },
    {
     "name": "stderr",
     "output_type": "stream",
     "text": [
      "c:\\Users\\Jimmy\\miniconda3\\envs\\dsi_participant\\lib\\site-packages\\keras\\src\\saving\\saving_lib.py:576: UserWarning: Skipping variable loading for optimizer 'adam', because it has 2 variables whereas the saved optimizer has 18 variables. \n",
      "  saveable.load_own_variables(weights_store.get(inner_path))\n"
     ]
    }
   ],
   "source": [
    "# Import the RandomSearch tuner from Keras Tuner\n",
    "from keras_tuner import RandomSearch\n",
    "\n",
    "# Set up the RandomSearch tuner to find the best hyperparameters for the model\n",
    "tuner = RandomSearch(\n",
    "    build_model,\n",
    "    objective='val_accuracy',\n",
    "    max_trials=5,\n",
    "    executions_per_trial=1,\n",
    "    directory='tuner',\n",
    "    project_name='tuning',\n",
    "    overwrite=True,\n",
    "    seed=42,\n",
    ")\n",
    "\n",
    "# Start the hyperparameter search process\n",
    "tuner.search(x_train, y_train, epochs=10, validation_data=(x_val, y_val))\n",
    "\n",
    "# Retrieve the best model and hyperparameters from the tuning process\n",
    "best_model = tuner.get_best_models(num_models=1)[0]\n",
    "best_hyperparameters = tuner.get_best_hyperparameters(num_trials=1)[0]\n",
    "\n",
    "# Print the best hyperparameters found\n",
    "print(\"Best hyperparameters:\")\n",
    "for key, value in best_hyperparameters.values.items():\n",
    "    print(f\"{key}: {value}\")\n"
   ]
  },
  {
   "cell_type": "markdown",
   "metadata": {},
   "source": [
    "### Model Building and Summary\n",
    "\n",
    ">In this section, the model is built using the best hyperparameters obtained from the hyperparameter tuning process. The model's architecture is then summarized to understand its structure.\n"
   ]
  },
  {
   "cell_type": "code",
   "execution_count": 35,
   "metadata": {},
   "outputs": [
    {
     "data": {
      "text/html": [
       "<pre style=\"white-space:pre;overflow-x:auto;line-height:normal;font-family:Menlo,'DejaVu Sans Mono',consolas,'Courier New',monospace\"><span style=\"font-weight: bold\">Model: \"sequential_1\"</span>\n",
       "</pre>\n"
      ],
      "text/plain": [
       "\u001b[1mModel: \"sequential_1\"\u001b[0m\n"
      ]
     },
     "metadata": {},
     "output_type": "display_data"
    },
    {
     "data": {
      "text/html": [
       "<pre style=\"white-space:pre;overflow-x:auto;line-height:normal;font-family:Menlo,'DejaVu Sans Mono',consolas,'Courier New',monospace\">┏━━━━━━━━━━━━━━━━━━━━━━━━━━━━━━━━━┳━━━━━━━━━━━━━━━━━━━━━━━━┳━━━━━━━━━━━━━━━┓\n",
       "┃<span style=\"font-weight: bold\"> Layer (type)                    </span>┃<span style=\"font-weight: bold\"> Output Shape           </span>┃<span style=\"font-weight: bold\">       Param # </span>┃\n",
       "┡━━━━━━━━━━━━━━━━━━━━━━━━━━━━━━━━━╇━━━━━━━━━━━━━━━━━━━━━━━━╇━━━━━━━━━━━━━━━┩\n",
       "│ conv2d_2 (<span style=\"color: #0087ff; text-decoration-color: #0087ff\">Conv2D</span>)               │ (<span style=\"color: #00d7ff; text-decoration-color: #00d7ff\">None</span>, <span style=\"color: #00af00; text-decoration-color: #00af00\">148</span>, <span style=\"color: #00af00; text-decoration-color: #00af00\">148</span>, <span style=\"color: #00af00; text-decoration-color: #00af00\">128</span>)  │         <span style=\"color: #00af00; text-decoration-color: #00af00\">3,584</span> │\n",
       "├─────────────────────────────────┼────────────────────────┼───────────────┤\n",
       "│ max_pooling2d_2 (<span style=\"color: #0087ff; text-decoration-color: #0087ff\">MaxPooling2D</span>)  │ (<span style=\"color: #00d7ff; text-decoration-color: #00d7ff\">None</span>, <span style=\"color: #00af00; text-decoration-color: #00af00\">74</span>, <span style=\"color: #00af00; text-decoration-color: #00af00\">74</span>, <span style=\"color: #00af00; text-decoration-color: #00af00\">128</span>)    │             <span style=\"color: #00af00; text-decoration-color: #00af00\">0</span> │\n",
       "├─────────────────────────────────┼────────────────────────┼───────────────┤\n",
       "│ conv2d_3 (<span style=\"color: #0087ff; text-decoration-color: #0087ff\">Conv2D</span>)               │ (<span style=\"color: #00d7ff; text-decoration-color: #00d7ff\">None</span>, <span style=\"color: #00af00; text-decoration-color: #00af00\">72</span>, <span style=\"color: #00af00; text-decoration-color: #00af00\">72</span>, <span style=\"color: #00af00; text-decoration-color: #00af00\">64</span>)     │        <span style=\"color: #00af00; text-decoration-color: #00af00\">73,792</span> │\n",
       "├─────────────────────────────────┼────────────────────────┼───────────────┤\n",
       "│ max_pooling2d_3 (<span style=\"color: #0087ff; text-decoration-color: #0087ff\">MaxPooling2D</span>)  │ (<span style=\"color: #00d7ff; text-decoration-color: #00d7ff\">None</span>, <span style=\"color: #00af00; text-decoration-color: #00af00\">36</span>, <span style=\"color: #00af00; text-decoration-color: #00af00\">36</span>, <span style=\"color: #00af00; text-decoration-color: #00af00\">64</span>)     │             <span style=\"color: #00af00; text-decoration-color: #00af00\">0</span> │\n",
       "├─────────────────────────────────┼────────────────────────┼───────────────┤\n",
       "│ flatten_1 (<span style=\"color: #0087ff; text-decoration-color: #0087ff\">Flatten</span>)             │ (<span style=\"color: #00d7ff; text-decoration-color: #00d7ff\">None</span>, <span style=\"color: #00af00; text-decoration-color: #00af00\">82944</span>)          │             <span style=\"color: #00af00; text-decoration-color: #00af00\">0</span> │\n",
       "├─────────────────────────────────┼────────────────────────┼───────────────┤\n",
       "│ dense_2 (<span style=\"color: #0087ff; text-decoration-color: #0087ff\">Dense</span>)                 │ (<span style=\"color: #00d7ff; text-decoration-color: #00d7ff\">None</span>, <span style=\"color: #00af00; text-decoration-color: #00af00\">64</span>)             │     <span style=\"color: #00af00; text-decoration-color: #00af00\">5,308,480</span> │\n",
       "├─────────────────────────────────┼────────────────────────┼───────────────┤\n",
       "│ dense_3 (<span style=\"color: #0087ff; text-decoration-color: #0087ff\">Dense</span>)                 │ (<span style=\"color: #00d7ff; text-decoration-color: #00d7ff\">None</span>, <span style=\"color: #00af00; text-decoration-color: #00af00\">4</span>)              │           <span style=\"color: #00af00; text-decoration-color: #00af00\">260</span> │\n",
       "└─────────────────────────────────┴────────────────────────┴───────────────┘\n",
       "</pre>\n"
      ],
      "text/plain": [
       "┏━━━━━━━━━━━━━━━━━━━━━━━━━━━━━━━━━┳━━━━━━━━━━━━━━━━━━━━━━━━┳━━━━━━━━━━━━━━━┓\n",
       "┃\u001b[1m \u001b[0m\u001b[1mLayer (type)                   \u001b[0m\u001b[1m \u001b[0m┃\u001b[1m \u001b[0m\u001b[1mOutput Shape          \u001b[0m\u001b[1m \u001b[0m┃\u001b[1m \u001b[0m\u001b[1m      Param #\u001b[0m\u001b[1m \u001b[0m┃\n",
       "┡━━━━━━━━━━━━━━━━━━━━━━━━━━━━━━━━━╇━━━━━━━━━━━━━━━━━━━━━━━━╇━━━━━━━━━━━━━━━┩\n",
       "│ conv2d_2 (\u001b[38;5;33mConv2D\u001b[0m)               │ (\u001b[38;5;45mNone\u001b[0m, \u001b[38;5;34m148\u001b[0m, \u001b[38;5;34m148\u001b[0m, \u001b[38;5;34m128\u001b[0m)  │         \u001b[38;5;34m3,584\u001b[0m │\n",
       "├─────────────────────────────────┼────────────────────────┼───────────────┤\n",
       "│ max_pooling2d_2 (\u001b[38;5;33mMaxPooling2D\u001b[0m)  │ (\u001b[38;5;45mNone\u001b[0m, \u001b[38;5;34m74\u001b[0m, \u001b[38;5;34m74\u001b[0m, \u001b[38;5;34m128\u001b[0m)    │             \u001b[38;5;34m0\u001b[0m │\n",
       "├─────────────────────────────────┼────────────────────────┼───────────────┤\n",
       "│ conv2d_3 (\u001b[38;5;33mConv2D\u001b[0m)               │ (\u001b[38;5;45mNone\u001b[0m, \u001b[38;5;34m72\u001b[0m, \u001b[38;5;34m72\u001b[0m, \u001b[38;5;34m64\u001b[0m)     │        \u001b[38;5;34m73,792\u001b[0m │\n",
       "├─────────────────────────────────┼────────────────────────┼───────────────┤\n",
       "│ max_pooling2d_3 (\u001b[38;5;33mMaxPooling2D\u001b[0m)  │ (\u001b[38;5;45mNone\u001b[0m, \u001b[38;5;34m36\u001b[0m, \u001b[38;5;34m36\u001b[0m, \u001b[38;5;34m64\u001b[0m)     │             \u001b[38;5;34m0\u001b[0m │\n",
       "├─────────────────────────────────┼────────────────────────┼───────────────┤\n",
       "│ flatten_1 (\u001b[38;5;33mFlatten\u001b[0m)             │ (\u001b[38;5;45mNone\u001b[0m, \u001b[38;5;34m82944\u001b[0m)          │             \u001b[38;5;34m0\u001b[0m │\n",
       "├─────────────────────────────────┼────────────────────────┼───────────────┤\n",
       "│ dense_2 (\u001b[38;5;33mDense\u001b[0m)                 │ (\u001b[38;5;45mNone\u001b[0m, \u001b[38;5;34m64\u001b[0m)             │     \u001b[38;5;34m5,308,480\u001b[0m │\n",
       "├─────────────────────────────────┼────────────────────────┼───────────────┤\n",
       "│ dense_3 (\u001b[38;5;33mDense\u001b[0m)                 │ (\u001b[38;5;45mNone\u001b[0m, \u001b[38;5;34m4\u001b[0m)              │           \u001b[38;5;34m260\u001b[0m │\n",
       "└─────────────────────────────────┴────────────────────────┴───────────────┘\n"
      ]
     },
     "metadata": {},
     "output_type": "display_data"
    },
    {
     "data": {
      "text/html": [
       "<pre style=\"white-space:pre;overflow-x:auto;line-height:normal;font-family:Menlo,'DejaVu Sans Mono',consolas,'Courier New',monospace\"><span style=\"font-weight: bold\"> Total params: </span><span style=\"color: #00af00; text-decoration-color: #00af00\">5,386,116</span> (20.55 MB)\n",
       "</pre>\n"
      ],
      "text/plain": [
       "\u001b[1m Total params: \u001b[0m\u001b[38;5;34m5,386,116\u001b[0m (20.55 MB)\n"
      ]
     },
     "metadata": {},
     "output_type": "display_data"
    },
    {
     "data": {
      "text/html": [
       "<pre style=\"white-space:pre;overflow-x:auto;line-height:normal;font-family:Menlo,'DejaVu Sans Mono',consolas,'Courier New',monospace\"><span style=\"font-weight: bold\"> Trainable params: </span><span style=\"color: #00af00; text-decoration-color: #00af00\">5,386,116</span> (20.55 MB)\n",
       "</pre>\n"
      ],
      "text/plain": [
       "\u001b[1m Trainable params: \u001b[0m\u001b[38;5;34m5,386,116\u001b[0m (20.55 MB)\n"
      ]
     },
     "metadata": {},
     "output_type": "display_data"
    },
    {
     "data": {
      "text/html": [
       "<pre style=\"white-space:pre;overflow-x:auto;line-height:normal;font-family:Menlo,'DejaVu Sans Mono',consolas,'Courier New',monospace\"><span style=\"font-weight: bold\"> Non-trainable params: </span><span style=\"color: #00af00; text-decoration-color: #00af00\">0</span> (0.00 B)\n",
       "</pre>\n"
      ],
      "text/plain": [
       "\u001b[1m Non-trainable params: \u001b[0m\u001b[38;5;34m0\u001b[0m (0.00 B)\n"
      ]
     },
     "metadata": {},
     "output_type": "display_data"
    }
   ],
   "source": [
    "# Build the model using the best hyperparameters from the tuning process\n",
    "model = build_model(best_hyperparameters)\n",
    "\n",
    "# Display the architecture of the model\n",
    "model.summary()\n"
   ]
  },
  {
   "cell_type": "markdown",
   "metadata": {},
   "source": [
    "### Model Training\n",
    "\n",
    ">This section trains the model on the training data while validating it on the validation set. After training, it evaluates the model on the validation set and prints the resulting loss and accuracy.\n"
   ]
  },
  {
   "cell_type": "code",
   "execution_count": 36,
   "metadata": {},
   "outputs": [
    {
     "name": "stdout",
     "output_type": "stream",
     "text": [
      "Epoch 1/20\n",
      "\u001b[1m8/8\u001b[0m \u001b[32m━━━━━━━━━━━━━━━━━━━━\u001b[0m\u001b[37m\u001b[0m \u001b[1m4s\u001b[0m 354ms/step - accuracy: 0.2534 - loss: 1.5616 - val_accuracy: 0.3226 - val_loss: 1.3823\n",
      "Epoch 2/20\n",
      "\u001b[1m8/8\u001b[0m \u001b[32m━━━━━━━━━━━━━━━━━━━━\u001b[0m\u001b[37m\u001b[0m \u001b[1m3s\u001b[0m 328ms/step - accuracy: 0.2553 - loss: 1.3979 - val_accuracy: 0.2581 - val_loss: 1.3741\n",
      "Epoch 3/20\n",
      "\u001b[1m8/8\u001b[0m \u001b[32m━━━━━━━━━━━━━━━━━━━━\u001b[0m\u001b[37m\u001b[0m \u001b[1m3s\u001b[0m 336ms/step - accuracy: 0.3057 - loss: 1.3750 - val_accuracy: 0.3387 - val_loss: 1.3684\n",
      "Epoch 4/20\n",
      "\u001b[1m8/8\u001b[0m \u001b[32m━━━━━━━━━━━━━━━━━━━━\u001b[0m\u001b[37m\u001b[0m \u001b[1m3s\u001b[0m 364ms/step - accuracy: 0.3840 - loss: 1.3631 - val_accuracy: 0.4355 - val_loss: 1.3467\n",
      "Epoch 5/20\n",
      "\u001b[1m8/8\u001b[0m \u001b[32m━━━━━━━━━━━━━━━━━━━━\u001b[0m\u001b[37m\u001b[0m \u001b[1m3s\u001b[0m 349ms/step - accuracy: 0.4011 - loss: 1.3426 - val_accuracy: 0.5161 - val_loss: 1.3276\n",
      "Epoch 6/20\n",
      "\u001b[1m8/8\u001b[0m \u001b[32m━━━━━━━━━━━━━━━━━━━━\u001b[0m\u001b[37m\u001b[0m \u001b[1m3s\u001b[0m 347ms/step - accuracy: 0.4547 - loss: 1.3069 - val_accuracy: 0.5000 - val_loss: 1.2731\n",
      "Epoch 7/20\n",
      "\u001b[1m8/8\u001b[0m \u001b[32m━━━━━━━━━━━━━━━━━━━━\u001b[0m\u001b[37m\u001b[0m \u001b[1m3s\u001b[0m 342ms/step - accuracy: 0.4282 - loss: 1.2678 - val_accuracy: 0.4839 - val_loss: 1.2282\n",
      "Epoch 8/20\n",
      "\u001b[1m8/8\u001b[0m \u001b[32m━━━━━━━━━━━━━━━━━━━━\u001b[0m\u001b[37m\u001b[0m \u001b[1m3s\u001b[0m 359ms/step - accuracy: 0.4437 - loss: 1.2102 - val_accuracy: 0.5968 - val_loss: 1.1679\n",
      "Epoch 9/20\n",
      "\u001b[1m8/8\u001b[0m \u001b[32m━━━━━━━━━━━━━━━━━━━━\u001b[0m\u001b[37m\u001b[0m \u001b[1m3s\u001b[0m 367ms/step - accuracy: 0.6502 - loss: 1.1352 - val_accuracy: 0.6613 - val_loss: 1.1020\n",
      "Epoch 10/20\n",
      "\u001b[1m8/8\u001b[0m \u001b[32m━━━━━━━━━━━━━━━━━━━━\u001b[0m\u001b[37m\u001b[0m \u001b[1m3s\u001b[0m 371ms/step - accuracy: 0.6582 - loss: 1.0609 - val_accuracy: 0.7097 - val_loss: 1.0241\n",
      "Epoch 11/20\n",
      "\u001b[1m8/8\u001b[0m \u001b[32m━━━━━━━━━━━━━━━━━━━━\u001b[0m\u001b[37m\u001b[0m \u001b[1m3s\u001b[0m 364ms/step - accuracy: 0.7356 - loss: 0.9673 - val_accuracy: 0.7742 - val_loss: 0.9506\n",
      "Epoch 12/20\n",
      "\u001b[1m8/8\u001b[0m \u001b[32m━━━━━━━━━━━━━━━━━━━━\u001b[0m\u001b[37m\u001b[0m \u001b[1m3s\u001b[0m 369ms/step - accuracy: 0.7825 - loss: 0.8766 - val_accuracy: 0.7742 - val_loss: 0.8931\n",
      "Epoch 13/20\n",
      "\u001b[1m8/8\u001b[0m \u001b[32m━━━━━━━━━━━━━━━━━━━━\u001b[0m\u001b[37m\u001b[0m \u001b[1m3s\u001b[0m 377ms/step - accuracy: 0.8057 - loss: 0.7950 - val_accuracy: 0.7581 - val_loss: 0.8101\n",
      "Epoch 14/20\n",
      "\u001b[1m8/8\u001b[0m \u001b[32m━━━━━━━━━━━━━━━━━━━━\u001b[0m\u001b[37m\u001b[0m \u001b[1m3s\u001b[0m 370ms/step - accuracy: 0.8074 - loss: 0.6974 - val_accuracy: 0.7742 - val_loss: 0.7670\n",
      "Epoch 15/20\n",
      "\u001b[1m8/8\u001b[0m \u001b[32m━━━━━━━━━━━━━━━━━━━━\u001b[0m\u001b[37m\u001b[0m \u001b[1m3s\u001b[0m 376ms/step - accuracy: 0.7982 - loss: 0.6273 - val_accuracy: 0.7742 - val_loss: 0.7291\n",
      "Epoch 16/20\n",
      "\u001b[1m8/8\u001b[0m \u001b[32m━━━━━━━━━━━━━━━━━━━━\u001b[0m\u001b[37m\u001b[0m \u001b[1m3s\u001b[0m 375ms/step - accuracy: 0.8325 - loss: 0.5584 - val_accuracy: 0.7742 - val_loss: 0.6887\n",
      "Epoch 17/20\n",
      "\u001b[1m8/8\u001b[0m \u001b[32m━━━━━━━━━━━━━━━━━━━━\u001b[0m\u001b[37m\u001b[0m \u001b[1m3s\u001b[0m 351ms/step - accuracy: 0.8561 - loss: 0.4925 - val_accuracy: 0.7903 - val_loss: 0.6733\n",
      "Epoch 18/20\n",
      "\u001b[1m8/8\u001b[0m \u001b[32m━━━━━━━━━━━━━━━━━━━━\u001b[0m\u001b[37m\u001b[0m \u001b[1m3s\u001b[0m 351ms/step - accuracy: 0.8709 - loss: 0.4478 - val_accuracy: 0.8065 - val_loss: 0.6519\n",
      "Epoch 19/20\n",
      "\u001b[1m8/8\u001b[0m \u001b[32m━━━━━━━━━━━━━━━━━━━━\u001b[0m\u001b[37m\u001b[0m \u001b[1m3s\u001b[0m 355ms/step - accuracy: 0.8963 - loss: 0.3953 - val_accuracy: 0.8065 - val_loss: 0.6379\n",
      "Epoch 20/20\n",
      "\u001b[1m8/8\u001b[0m \u001b[32m━━━━━━━━━━━━━━━━━━━━\u001b[0m\u001b[37m\u001b[0m \u001b[1m3s\u001b[0m 353ms/step - accuracy: 0.8941 - loss: 0.3479 - val_accuracy: 0.8065 - val_loss: 0.6323\n",
      "\u001b[1m2/2\u001b[0m \u001b[32m━━━━━━━━━━━━━━━━━━━━\u001b[0m\u001b[37m\u001b[0m \u001b[1m0s\u001b[0m 87ms/step - accuracy: 0.8085 - loss: 0.5853\n",
      "Validation Loss: 0.6322532296180725\n",
      "Validation Accuracy: 0.8064516186714172\n"
     ]
    }
   ],
   "source": [
    "# Train the model with the training data and validate using the validation set\n",
    "history = model.fit(x_train, y_train, epochs=20, validation_data=(x_val, y_val))\n",
    "\n",
    "# Evaluate the model on the validation set\n",
    "val_loss, val_accuracy = model.evaluate(x_val, y_val)\n",
    "\n",
    "# Print validation loss and accuracy\n",
    "print(f\"Validation Loss: {val_loss}\")\n",
    "print(f\"Validation Accuracy: {val_accuracy}\")\n"
   ]
  },
  {
   "cell_type": "markdown",
   "metadata": {},
   "source": [
    "### Plot Training and Validation Accuracy\n",
    "\n",
    ">This section plots the training and validation accuracy to visualize the model's performance over epochs. It helps in assessing whether the model is improving and if there is overfitting.\n"
   ]
  },
  {
   "cell_type": "code",
   "execution_count": 37,
   "metadata": {},
   "outputs": [
    {
     "data": {
      "image/png": "[encoded data removed]",
      "text/plain": [
       "<Figure size 640x480 with 1 Axes>"
      ]
     },
     "metadata": {},
     "output_type": "display_data"
    }
   ],
   "source": [
    "import matplotlib.pyplot as plt\n",
    "\n",
    "# Plot training accuracy and validation accuracy\n",
    "plt.plot(history.history['accuracy'], label='Training Accuracy')\n",
    "plt.plot(history.history['val_accuracy'], label='Validation Accuracy')\n",
    "plt.xlabel('Epochs')\n",
    "plt.ylabel('Accuracy')\n",
    "plt.title('Training and Validation Accuracy')\n",
    "plt.legend()\n",
    "plt.show()\n"
   ]
  },
  {
   "cell_type": "markdown",
   "metadata": {},
   "source": [
    "### **Model 1**: Original Architecture with Fine-Tuned Hyperparameters\n",
    "\n",
    ">The following code snippet saves the trained model to a file named `model_fine_tuned.keras`. This stores the model's architecture, weights, and optimizer configuration.\n"
   ]
  },
  {
   "cell_type": "code",
   "execution_count": 38,
   "metadata": {},
   "outputs": [],
   "source": [
    "# Save the trained model to a file'\n",
    "model.save('models/cnn_hypertuned.keras')"
   ]
  },
  {
   "cell_type": "markdown",
   "metadata": {},
   "source": [
    "### Evaluate the Model and Generate Classification Report\n",
    "\n",
    ">Evaluate the trained model on the test dataset, calculate the test loss and accuracy, and print them for reference. The model's predictions (`y_pred`) on the test set are  converted from one-hot encoded format to class labels. These predictions are compared with the true class labels (`y_true_classes`) to generate a detailed classification report and confusion matrix using `sklearn.metrics`. The classification report includes precision, recall, F1-score, and support for each class, while the confusion matrix provides a breakdown of the model's performance for each class by showing the counts of true positives, false positives, true negatives, and false negatives.\n"
   ]
  },
  {
   "cell_type": "code",
   "execution_count": 56,
   "metadata": {},
   "outputs": [
    {
     "name": "stdout",
     "output_type": "stream",
     "text": [
      "\u001b[1m3/3\u001b[0m \u001b[32m━━━━━━━━━━━━━━━━━━━━\u001b[0m\u001b[37m\u001b[0m \u001b[1m0s\u001b[0m 63ms/step\n",
      "3/3 - 0s - 70ms/step - accuracy: 0.7143 - loss: 0.7757\n",
      "Test Loss: 0.7756516933441162\n",
      "Test Accuracy: 0.7142857313156128\n",
      "              precision    recall  f1-score   support\n",
      "\n",
      "           0       0.79      0.56      0.65        27\n",
      "           1       0.65      0.85      0.74        20\n",
      "           2       0.86      0.80      0.83        15\n",
      "           3       0.61      0.73      0.67        15\n",
      "\n",
      "    accuracy                           0.71        77\n",
      "   macro avg       0.73      0.73      0.72        77\n",
      "weighted avg       0.73      0.71      0.71        77\n",
      "\n",
      "[[15  5  2  5]\n",
      " [ 2 17  0  1]\n",
      " [ 0  2 12  1]\n",
      " [ 2  2  0 11]]\n"
     ]
    }
   ],
   "source": [
    "y_pred = model.predict(x_test)\n",
    "\n",
    "test_loss, test_accuracy = model.evaluate(x_test, y_test, verbose=2)\n",
    "\n",
    "print(f\"Test Loss: {test_loss}\")\n",
    "print(f\"Test Accuracy: {test_accuracy}\")\n",
    "\n",
    "from sklearn.metrics import classification_report, confusion_matrix\n",
    "\n",
    "y_pred_classes = np.argmax(y_pred, axis=1)\n",
    "y_true_classes = np.argmax(y_test, axis=1)\n",
    "\n",
    "print(classification_report(y_true_classes, y_pred_classes))\n",
    "print(confusion_matrix(y_true_classes, y_pred_classes))"
   ]
  },
  {
   "cell_type": "markdown",
   "metadata": {},
   "source": [
    "### **Model 2**: Original Architecture with Dropout Layers\n",
    "\n",
    "The following code defines a Convolutional Neural Network (CNN) using the best hyperparameters obtained from Keras Tuner. The model incorporates dropout layers to prevent overfitting and enhance performance. \n",
    "\n",
    "1. **Model Definition**:\n",
    "   - **Convolutional Layers**: Two `Conv2D` layers with 96 and 64 filters respectively, followed by `MaxPooling2D` layers.\n",
    "   - **Dropout Layers**: Two `Dropout` layers with a dropout rate of 0.5, added to help mitigate overfitting.\n",
    "   - **Dense Layers**: A fully connected `Dense` layer with 128 units, followed by a final `Dense` layer with 4 units for classification.\n",
    "\n",
    "2. **Compilation**:\n",
    "   - The model is compiled with the Adam optimizer, using specific hyperparameters including learning rate, beta values, and epsilon, to optimize the training process.\n",
    "\n",
    "3. **Training**:\n",
    "   - The model is trained on the training dataset for 20 epochs, with validation data provided for monitoring.\n",
    "\n",
    "4. **Evaluation**:\n",
    "   - The model’s performance is evaluated on both the validation and test datasets. Metrics including loss and accuracy are printed.\n",
    "   - Predictions are made on the test set, and classification reports along with confusion matrices are generated to assess the model's performance in detail.\n",
    "\n"
   ]
  },
  {
   "cell_type": "code",
   "execution_count": 84,
   "metadata": {},
   "outputs": [
    {
     "name": "stdout",
     "output_type": "stream",
     "text": [
      "Epoch 1/21\n"
     ]
    },
    {
     "name": "stderr",
     "output_type": "stream",
     "text": [
      "c:\\Users\\Jimmy\\miniconda3\\envs\\dsi_participant\\lib\\site-packages\\keras\\src\\layers\\convolutional\\base_conv.py:107: UserWarning: Do not pass an `input_shape`/`input_dim` argument to a layer. When using Sequential models, prefer using an `Input(shape)` object as the first layer in the model instead.\n",
      "  super().__init__(activity_regularizer=activity_regularizer, **kwargs)\n"
     ]
    },
    {
     "name": "stdout",
     "output_type": "stream",
     "text": [
      "\u001b[1m8/8\u001b[0m \u001b[32m━━━━━━━━━━━━━━━━━━━━\u001b[0m\u001b[37m\u001b[0m \u001b[1m5s\u001b[0m 382ms/step - accuracy: 0.1776 - loss: 2.2663 - val_accuracy: 0.1613 - val_loss: 1.4194\n",
      "Epoch 2/21\n",
      "\u001b[1m8/8\u001b[0m \u001b[32m━━━━━━━━━━━━━━━━━━━━\u001b[0m\u001b[37m\u001b[0m \u001b[1m3s\u001b[0m 350ms/step - accuracy: 0.2415 - loss: 1.5155 - val_accuracy: 0.2742 - val_loss: 1.3773\n",
      "Epoch 3/21\n",
      "\u001b[1m8/8\u001b[0m \u001b[32m━━━━━━━━━━━━━━━━━━━━\u001b[0m\u001b[37m\u001b[0m \u001b[1m3s\u001b[0m 350ms/step - accuracy: 0.2571 - loss: 1.3852 - val_accuracy: 0.3226 - val_loss: 1.3661\n",
      "Epoch 4/21\n",
      "\u001b[1m8/8\u001b[0m \u001b[32m━━━━━━━━━━━━━━━━━━━━\u001b[0m\u001b[37m\u001b[0m \u001b[1m3s\u001b[0m 357ms/step - accuracy: 0.2823 - loss: 1.3604 - val_accuracy: 0.3226 - val_loss: 1.3592\n",
      "Epoch 5/21\n",
      "\u001b[1m8/8\u001b[0m \u001b[32m━━━━━━━━━━━━━━━━━━━━\u001b[0m\u001b[37m\u001b[0m \u001b[1m3s\u001b[0m 354ms/step - accuracy: 0.3343 - loss: 1.3290 - val_accuracy: 0.3871 - val_loss: 1.3393\n",
      "Epoch 6/21\n",
      "\u001b[1m8/8\u001b[0m \u001b[32m━━━━━━━━━━━━━━━━━━━━\u001b[0m\u001b[37m\u001b[0m \u001b[1m3s\u001b[0m 360ms/step - accuracy: 0.4451 - loss: 1.2741 - val_accuracy: 0.5645 - val_loss: 1.3003\n",
      "Epoch 7/21\n",
      "\u001b[1m8/8\u001b[0m \u001b[32m━━━━━━━━━━━━━━━━━━━━\u001b[0m\u001b[37m\u001b[0m \u001b[1m3s\u001b[0m 353ms/step - accuracy: 0.4868 - loss: 1.1913 - val_accuracy: 0.6290 - val_loss: 1.2524\n",
      "Epoch 8/21\n",
      "\u001b[1m8/8\u001b[0m \u001b[32m━━━━━━━━━━━━━━━━━━━━\u001b[0m\u001b[37m\u001b[0m \u001b[1m3s\u001b[0m 365ms/step - accuracy: 0.6083 - loss: 1.0993 - val_accuracy: 0.7097 - val_loss: 1.1738\n",
      "Epoch 9/21\n",
      "\u001b[1m8/8\u001b[0m \u001b[32m━━━━━━━━━━━━━━━━━━━━\u001b[0m\u001b[37m\u001b[0m \u001b[1m3s\u001b[0m 359ms/step - accuracy: 0.6154 - loss: 1.0437 - val_accuracy: 0.7581 - val_loss: 1.0853\n",
      "Epoch 10/21\n",
      "\u001b[1m8/8\u001b[0m \u001b[32m━━━━━━━━━━━━━━━━━━━━\u001b[0m\u001b[37m\u001b[0m \u001b[1m3s\u001b[0m 367ms/step - accuracy: 0.7133 - loss: 0.8578 - val_accuracy: 0.7581 - val_loss: 0.9865\n",
      "Epoch 11/21\n",
      "\u001b[1m8/8\u001b[0m \u001b[32m━━━━━━━━━━━━━━━━━━━━\u001b[0m\u001b[37m\u001b[0m \u001b[1m3s\u001b[0m 375ms/step - accuracy: 0.7556 - loss: 0.7373 - val_accuracy: 0.7742 - val_loss: 0.9101\n",
      "Epoch 12/21\n",
      "\u001b[1m8/8\u001b[0m \u001b[32m━━━━━━━━━━━━━━━━━━━━\u001b[0m\u001b[37m\u001b[0m \u001b[1m3s\u001b[0m 377ms/step - accuracy: 0.7669 - loss: 0.6535 - val_accuracy: 0.8065 - val_loss: 0.8396\n",
      "Epoch 13/21\n",
      "\u001b[1m8/8\u001b[0m \u001b[32m━━━━━━━━━━━━━━━━━━━━\u001b[0m\u001b[37m\u001b[0m \u001b[1m3s\u001b[0m 373ms/step - accuracy: 0.8082 - loss: 0.5289 - val_accuracy: 0.7903 - val_loss: 0.7815\n",
      "Epoch 14/21\n",
      "\u001b[1m8/8\u001b[0m \u001b[32m━━━━━━━━━━━━━━━━━━━━\u001b[0m\u001b[37m\u001b[0m \u001b[1m3s\u001b[0m 375ms/step - accuracy: 0.8566 - loss: 0.4057 - val_accuracy: 0.7903 - val_loss: 0.7371\n",
      "Epoch 15/21\n",
      "\u001b[1m8/8\u001b[0m \u001b[32m━━━━━━━━━━━━━━━━━━━━\u001b[0m\u001b[37m\u001b[0m \u001b[1m3s\u001b[0m 378ms/step - accuracy: 0.8795 - loss: 0.3744 - val_accuracy: 0.7258 - val_loss: 0.7179\n",
      "Epoch 16/21\n",
      "\u001b[1m8/8\u001b[0m \u001b[32m━━━━━━━━━━━━━━━━━━━━\u001b[0m\u001b[37m\u001b[0m \u001b[1m3s\u001b[0m 374ms/step - accuracy: 0.8957 - loss: 0.2953 - val_accuracy: 0.7742 - val_loss: 0.6894\n",
      "Epoch 17/21\n",
      "\u001b[1m8/8\u001b[0m \u001b[32m━━━━━━━━━━━━━━━━━━━━\u001b[0m\u001b[37m\u001b[0m \u001b[1m3s\u001b[0m 372ms/step - accuracy: 0.9004 - loss: 0.3003 - val_accuracy: 0.8387 - val_loss: 0.6807\n",
      "Epoch 18/21\n",
      "\u001b[1m8/8\u001b[0m \u001b[32m━━━━━━━━━━━━━━━━━━━━\u001b[0m\u001b[37m\u001b[0m \u001b[1m3s\u001b[0m 378ms/step - accuracy: 0.9421 - loss: 0.2146 - val_accuracy: 0.8226 - val_loss: 0.6664\n",
      "Epoch 19/21\n",
      "\u001b[1m8/8\u001b[0m \u001b[32m━━━━━━━━━━━━━━━━━━━━\u001b[0m\u001b[37m\u001b[0m \u001b[1m3s\u001b[0m 382ms/step - accuracy: 0.9289 - loss: 0.2252 - val_accuracy: 0.7742 - val_loss: 0.6619\n",
      "Epoch 20/21\n",
      "\u001b[1m8/8\u001b[0m \u001b[32m━━━━━━━━━━━━━━━━━━━━\u001b[0m\u001b[37m\u001b[0m \u001b[1m3s\u001b[0m 378ms/step - accuracy: 0.9477 - loss: 0.1717 - val_accuracy: 0.7742 - val_loss: 0.6715\n",
      "Epoch 21/21\n",
      "\u001b[1m8/8\u001b[0m \u001b[32m━━━━━━━━━━━━━━━━━━━━\u001b[0m\u001b[37m\u001b[0m \u001b[1m3s\u001b[0m 382ms/step - accuracy: 0.9511 - loss: 0.1592 - val_accuracy: 0.7742 - val_loss: 0.7369\n",
      "\u001b[1m2/2\u001b[0m \u001b[32m━━━━━━━━━━━━━━━━━━━━\u001b[0m\u001b[37m\u001b[0m \u001b[1m0s\u001b[0m 94ms/step - accuracy: 0.7765 - loss: 0.7046\n",
      "Validation Loss: 0.7369000315666199\n",
      "Validation Accuracy: 0.774193525314331\n"
     ]
    },
    {
     "data": {
      "image/png": "[encoded data removed]",
      "text/plain": [
       "<Figure size 640x480 with 1 Axes>"
      ]
     },
     "metadata": {},
     "output_type": "display_data"
    },
    {
     "name": "stdout",
     "output_type": "stream",
     "text": [
      "\u001b[1m3/3\u001b[0m \u001b[32m━━━━━━━━━━━━━━━━━━━━\u001b[0m\u001b[37m\u001b[0m \u001b[1m0s\u001b[0m 113ms/step\n",
      "3/3 - 0s - 85ms/step - accuracy: 0.8182 - loss: 0.7906\n",
      "Test Loss: 0.7906191349029541\n",
      "Test Accuracy: 0.8181818127632141\n",
      "              precision    recall  f1-score   support\n",
      "\n",
      "           0       0.91      0.74      0.82        27\n",
      "           1       0.79      0.95      0.86        20\n",
      "           2       0.86      0.80      0.83        15\n",
      "           3       0.71      0.80      0.75        15\n",
      "\n",
      "    accuracy                           0.82        77\n",
      "   macro avg       0.82      0.82      0.81        77\n",
      "weighted avg       0.83      0.82      0.82        77\n",
      "\n",
      "[[20  2  2  3]\n",
      " [ 0 19  0  1]\n",
      " [ 0  2 12  1]\n",
      " [ 2  1  0 12]]\n"
     ]
    }
   ],
   "source": [
    "from tensorflow.keras.models import Sequential\n",
    "from tensorflow.keras.layers import Conv2D, MaxPooling2D, Flatten, Dense, Dropout\n",
    "from tensorflow.keras.callbacks import EarlyStopping\n",
    "from sklearn.metrics import classification_report, confusion_matrix\n",
    "\n",
    "\n",
    "# Define the model\n",
    "model_skeleton = Sequential([\n",
    "    Conv2D(96, (3, 3), activation='relu', input_shape=(150, 150, 3), padding='valid', name='conv2d_2'),\n",
    "    MaxPooling2D((2, 2), name='max_pooling2d_2'),\n",
    "    Conv2D(64, (3, 3), activation='relu', padding='valid', name='conv2d_3'),\n",
    "    Dropout(0.5),\n",
    "    MaxPooling2D((2, 2), name='max_pooling2d_3'),\n",
    "    Flatten(name='flatten_1'),\n",
    "    Dense(128, activation='relu', name='dense_2'),\n",
    "    Dropout(0.5),\n",
    "    Dense(4, activation='softmax', name='dense_3')\n",
    "])\n",
    "\n",
    "# Compile the model\n",
    "optimizer = Adam(\n",
    "    learning_rate=0.00018328792004345589,\n",
    "    beta_1=0.9700000000000001,\n",
    "    beta_2=0.9540000000000001,\n",
    "    epsilon=3.3137745378583986e-07\n",
    ")\n",
    "\n",
    "model_skeleton.compile(optimizer=optimizer, loss='categorical_crossentropy', metrics=['accuracy'])\n",
    "\n",
    "# Train the model with the training data and validate using the validation set\n",
    "history = model_skeleton.fit(\n",
    "    x_train, y_train, \n",
    "    epochs=21, \n",
    "    validation_data=(x_val, y_val), \n",
    ")\n",
    "\n",
    "# Evaluate the model on the validation set\n",
    "val_loss, val_accuracy = model_skeleton.evaluate(x_val, y_val)\n",
    "\n",
    "# Print validation loss and accuracy\n",
    "print(f\"Validation Loss: {val_loss}\")\n",
    "print(f\"Validation Accuracy: {val_accuracy}\")\n",
    "\n",
    "# Plot training accuracy and validation accuracy\n",
    "plt.plot(history.history['accuracy'], label='Training Accuracy')\n",
    "plt.plot(history.history['val_accuracy'], label='Validation Accuracy')\n",
    "plt.xlabel('Epochs')\n",
    "plt.ylabel('Accuracy')\n",
    "plt.title('Training and Validation Accuracy')\n",
    "plt.legend()\n",
    "plt.show()\n",
    "\n",
    "#Evaluate the trained model on the test dataset\n",
    "y_pred = model_skeleton.predict(x_test)\n",
    "test_loss, test_accuracy = model_skeleton.evaluate(x_test, y_test, verbose=2)\n",
    "print(f\"Test Loss: {test_loss}\")\n",
    "print(f\"Test Accuracy: {test_accuracy}\")\n",
    "\n",
    "y_pred_classes = np.argmax(y_pred, axis=1)\n",
    "y_true_classes = np.argmax(y_test, axis=1)\n",
    "\n",
    "print(classification_report(y_true_classes, y_pred_classes))\n",
    "print(confusion_matrix(y_true_classes, y_pred_classes))\n",
    "\n",
    "# Save the trained model to a file'\n",
    "model_skeleton.save('models/cnn_hypertuned_dropout.keras')"
   ]
  },
  {
   "cell_type": "code",
   "execution_count": 67,
   "metadata": {},
   "outputs": [],
   "source": [
    "# Save the model architecture to a JSON file\n",
    "model_json = model_skeleton.to_json()\n",
    "with open(\"optimized_cnn_model_architecture.json\", \"w\") as json_file:\n",
    "    json_file.write(model_json)\n"
   ]
  },
  {
   "cell_type": "markdown",
   "metadata": {},
   "source": [
    "### **Model 3**: Optimized CNN with Data Augmentation\n",
    "\n",
    "**Description**: This model features an optimized CNN architecture with data augmentation. \n",
    "\n",
    "- **File Name**: `optimized_cnn_with_augmentation_early_stopping.keras`\n",
    "- **JSON Architecture File**: `optimized_cnn_with_augmentation_early_stopping.json`\n",
    "\n",
    "**Details:**\n",
    "- **Architecture**: \n",
    "  - Conv2D layers with ReLU activation\n",
    "  - MaxPooling2D layers\n",
    "  - Dropout layers to mitigate overfitting\n",
    "  - Dense layers for final classification\n",
    "- **Optimizer**: Adam with a learning rate of 0.0001\n",
    "- **Data Augmentation**: Utilizes `ImageDataGenerator` for training data\n",
    "\n"
   ]
  },
  {
   "cell_type": "code",
   "execution_count": 102,
   "metadata": {},
   "outputs": [
    {
     "name": "stderr",
     "output_type": "stream",
     "text": [
      "c:\\Users\\Jimmy\\miniconda3\\envs\\dsi_participant\\lib\\site-packages\\keras\\src\\layers\\convolutional\\base_conv.py:107: UserWarning: Do not pass an `input_shape`/`input_dim` argument to a layer. When using Sequential models, prefer using an `Input(shape)` object as the first layer in the model instead.\n",
      "  super().__init__(activity_regularizer=activity_regularizer, **kwargs)\n"
     ]
    },
    {
     "name": "stdout",
     "output_type": "stream",
     "text": [
      "Epoch 1/100\n"
     ]
    },
    {
     "name": "stderr",
     "output_type": "stream",
     "text": [
      "c:\\Users\\Jimmy\\miniconda3\\envs\\dsi_participant\\lib\\site-packages\\keras\\src\\trainers\\data_adapters\\py_dataset_adapter.py:121: UserWarning: Your `PyDataset` class should call `super().__init__(**kwargs)` in its constructor. `**kwargs` can include `workers`, `use_multiprocessing`, `max_queue_size`. Do not pass these arguments to `fit()`, as they will be ignored.\n",
      "  self._warn_if_super_not_called()\n"
     ]
    },
    {
     "name": "stdout",
     "output_type": "stream",
     "text": [
      "\u001b[1m8/8\u001b[0m \u001b[32m━━━━━━━━━━━━━━━━━━━━\u001b[0m\u001b[37m\u001b[0m \u001b[1m8s\u001b[0m 418ms/step - accuracy: 0.2500 - loss: 1.8439 - val_accuracy: 0.3226 - val_loss: 1.3790\n",
      "Epoch 2/100\n",
      "\u001b[1m8/8\u001b[0m \u001b[32m━━━━━━━━━━━━━━━━━━━━\u001b[0m\u001b[37m\u001b[0m \u001b[1m3s\u001b[0m 331ms/step - accuracy: 0.1895 - loss: 1.4980 - val_accuracy: 0.2742 - val_loss: 1.3923\n",
      "Epoch 3/100\n",
      "\u001b[1m8/8\u001b[0m \u001b[32m━━━━━━━━━━━━━━━━━━━━\u001b[0m\u001b[37m\u001b[0m \u001b[1m3s\u001b[0m 312ms/step - accuracy: 0.2435 - loss: 1.4315 - val_accuracy: 0.3226 - val_loss: 1.3758\n",
      "Epoch 4/100\n",
      "\u001b[1m8/8\u001b[0m \u001b[32m━━━━━━━━━━━━━━━━━━━━\u001b[0m\u001b[37m\u001b[0m \u001b[1m3s\u001b[0m 330ms/step - accuracy: 0.2674 - loss: 1.3943 - val_accuracy: 0.3548 - val_loss: 1.3833\n",
      "Epoch 5/100\n",
      "\u001b[1m8/8\u001b[0m \u001b[32m━━━━━━━━━━━━━━━━━━━━\u001b[0m\u001b[37m\u001b[0m \u001b[1m3s\u001b[0m 310ms/step - accuracy: 0.2082 - loss: 1.3854 - val_accuracy: 0.1452 - val_loss: 1.3849\n",
      "Epoch 6/100\n",
      "\u001b[1m8/8\u001b[0m \u001b[32m━━━━━━━━━━━━━━━━━━━━\u001b[0m\u001b[37m\u001b[0m \u001b[1m3s\u001b[0m 324ms/step - accuracy: 0.2365 - loss: 1.3842 - val_accuracy: 0.2581 - val_loss: 1.3859\n",
      "Epoch 7/100\n",
      "\u001b[1m8/8\u001b[0m \u001b[32m━━━━━━━━━━━━━━━━━━━━\u001b[0m\u001b[37m\u001b[0m \u001b[1m3s\u001b[0m 320ms/step - accuracy: 0.2733 - loss: 1.3881 - val_accuracy: 0.2742 - val_loss: 1.3823\n",
      "Epoch 8/100\n",
      "\u001b[1m8/8\u001b[0m \u001b[32m━━━━━━━━━━━━━━━━━━━━\u001b[0m\u001b[37m\u001b[0m \u001b[1m3s\u001b[0m 327ms/step - accuracy: 0.2600 - loss: 1.3838 - val_accuracy: 0.3226 - val_loss: 1.3721\n",
      "Epoch 9/100\n",
      "\u001b[1m8/8\u001b[0m \u001b[32m━━━━━━━━━━━━━━━━━━━━\u001b[0m\u001b[37m\u001b[0m \u001b[1m3s\u001b[0m 326ms/step - accuracy: 0.2610 - loss: 1.3812 - val_accuracy: 0.4032 - val_loss: 1.3782\n",
      "Epoch 10/100\n",
      "\u001b[1m8/8\u001b[0m \u001b[32m━━━━━━━━━━━━━━━━━━━━\u001b[0m\u001b[37m\u001b[0m \u001b[1m4s\u001b[0m 342ms/step - accuracy: 0.3740 - loss: 1.3685 - val_accuracy: 0.3226 - val_loss: 1.3670\n",
      "Epoch 11/100\n",
      "\u001b[1m8/8\u001b[0m \u001b[32m━━━━━━━━━━━━━━━━━━━━\u001b[0m\u001b[37m\u001b[0m \u001b[1m3s\u001b[0m 335ms/step - accuracy: 0.2642 - loss: 1.3763 - val_accuracy: 0.3710 - val_loss: 1.3630\n",
      "Epoch 12/100\n",
      "\u001b[1m8/8\u001b[0m \u001b[32m━━━━━━━━━━━━━━━━━━━━\u001b[0m\u001b[37m\u001b[0m \u001b[1m4s\u001b[0m 341ms/step - accuracy: 0.3577 - loss: 1.3449 - val_accuracy: 0.4194 - val_loss: 1.3573\n",
      "Epoch 13/100\n",
      "\u001b[1m8/8\u001b[0m \u001b[32m━━━━━━━━━━━━━━━━━━━━\u001b[0m\u001b[37m\u001b[0m \u001b[1m3s\u001b[0m 334ms/step - accuracy: 0.3254 - loss: 1.3555 - val_accuracy: 0.4839 - val_loss: 1.3463\n",
      "Epoch 14/100\n",
      "\u001b[1m8/8\u001b[0m \u001b[32m━━━━━━━━━━━━━━━━━━━━\u001b[0m\u001b[37m\u001b[0m \u001b[1m4s\u001b[0m 351ms/step - accuracy: 0.3795 - loss: 1.3312 - val_accuracy: 0.4839 - val_loss: 1.3424\n",
      "Epoch 15/100\n",
      "\u001b[1m8/8\u001b[0m \u001b[32m━━━━━━━━━━━━━━━━━━━━\u001b[0m\u001b[37m\u001b[0m \u001b[1m4s\u001b[0m 332ms/step - accuracy: 0.3590 - loss: 1.3302 - val_accuracy: 0.4677 - val_loss: 1.3383\n",
      "Epoch 16/100\n",
      "\u001b[1m8/8\u001b[0m \u001b[32m━━━━━━━━━━━━━━━━━━━━\u001b[0m\u001b[37m\u001b[0m \u001b[1m3s\u001b[0m 344ms/step - accuracy: 0.4140 - loss: 1.3056 - val_accuracy: 0.3387 - val_loss: 1.3193\n",
      "Epoch 17/100\n",
      "\u001b[1m8/8\u001b[0m \u001b[32m━━━━━━━━━━━━━━━━━━━━\u001b[0m\u001b[37m\u001b[0m \u001b[1m4s\u001b[0m 339ms/step - accuracy: 0.3392 - loss: 1.3481 - val_accuracy: 0.3226 - val_loss: 1.3585\n",
      "Epoch 18/100\n",
      "\u001b[1m8/8\u001b[0m \u001b[32m━━━━━━━━━━━━━━━━━━━━\u001b[0m\u001b[37m\u001b[0m \u001b[1m4s\u001b[0m 342ms/step - accuracy: 0.3080 - loss: 1.3430 - val_accuracy: 0.3710 - val_loss: 1.3209\n",
      "Epoch 19/100\n",
      "\u001b[1m8/8\u001b[0m \u001b[32m━━━━━━━━━━━━━━━━━━━━\u001b[0m\u001b[37m\u001b[0m \u001b[1m3s\u001b[0m 332ms/step - accuracy: 0.3494 - loss: 1.2975 - val_accuracy: 0.4194 - val_loss: 1.2960\n",
      "Epoch 20/100\n",
      "\u001b[1m8/8\u001b[0m \u001b[32m━━━━━━━━━━━━━━━━━━━━\u001b[0m\u001b[37m\u001b[0m \u001b[1m3s\u001b[0m 333ms/step - accuracy: 0.3753 - loss: 1.2769 - val_accuracy: 0.3871 - val_loss: 1.3004\n",
      "Epoch 21/100\n",
      "\u001b[1m8/8\u001b[0m \u001b[32m━━━━━━━━━━━━━━━━━━━━\u001b[0m\u001b[37m\u001b[0m \u001b[1m4s\u001b[0m 352ms/step - accuracy: 0.4204 - loss: 1.2487 - val_accuracy: 0.4355 - val_loss: 1.2911\n",
      "Epoch 22/100\n",
      "\u001b[1m8/8\u001b[0m \u001b[32m━━━━━━━━━━━━━━━━━━━━\u001b[0m\u001b[37m\u001b[0m \u001b[1m4s\u001b[0m 341ms/step - accuracy: 0.3923 - loss: 1.2636 - val_accuracy: 0.4355 - val_loss: 1.2649\n",
      "Epoch 23/100\n",
      "\u001b[1m8/8\u001b[0m \u001b[32m━━━━━━━━━━━━━━━━━━━━\u001b[0m\u001b[37m\u001b[0m \u001b[1m4s\u001b[0m 352ms/step - accuracy: 0.4189 - loss: 1.2554 - val_accuracy: 0.5000 - val_loss: 1.2765\n",
      "Epoch 24/100\n",
      "\u001b[1m8/8\u001b[0m \u001b[32m━━━━━━━━━━━━━━━━━━━━\u001b[0m\u001b[37m\u001b[0m \u001b[1m4s\u001b[0m 351ms/step - accuracy: 0.4126 - loss: 1.2321 - val_accuracy: 0.4032 - val_loss: 1.2485\n",
      "Epoch 25/100\n",
      "\u001b[1m8/8\u001b[0m \u001b[32m━━━━━━━━━━━━━━━━━━━━\u001b[0m\u001b[37m\u001b[0m \u001b[1m4s\u001b[0m 364ms/step - accuracy: 0.4281 - loss: 1.1965 - val_accuracy: 0.4677 - val_loss: 1.2756\n",
      "Epoch 26/100\n",
      "\u001b[1m8/8\u001b[0m \u001b[32m━━━━━━━━━━━━━━━━━━━━\u001b[0m\u001b[37m\u001b[0m \u001b[1m4s\u001b[0m 342ms/step - accuracy: 0.3756 - loss: 1.2830 - val_accuracy: 0.4677 - val_loss: 1.2848\n",
      "Epoch 27/100\n",
      "\u001b[1m8/8\u001b[0m \u001b[32m━━━━━━━━━━━━━━━━━━━━\u001b[0m\u001b[37m\u001b[0m \u001b[1m4s\u001b[0m 343ms/step - accuracy: 0.3655 - loss: 1.2375 - val_accuracy: 0.4355 - val_loss: 1.2211\n",
      "Epoch 28/100\n",
      "\u001b[1m8/8\u001b[0m \u001b[32m━━━━━━━━━━━━━━━━━━━━\u001b[0m\u001b[37m\u001b[0m \u001b[1m4s\u001b[0m 338ms/step - accuracy: 0.3980 - loss: 1.2286 - val_accuracy: 0.5161 - val_loss: 1.2469\n",
      "Epoch 29/100\n",
      "\u001b[1m8/8\u001b[0m \u001b[32m━━━━━━━━━━━━━━━━━━━━\u001b[0m\u001b[37m\u001b[0m \u001b[1m4s\u001b[0m 347ms/step - accuracy: 0.3952 - loss: 1.2418 - val_accuracy: 0.4194 - val_loss: 1.2245\n",
      "Epoch 30/100\n",
      "\u001b[1m8/8\u001b[0m \u001b[32m━━━━━━━━━━━━━━━━━━━━\u001b[0m\u001b[37m\u001b[0m \u001b[1m4s\u001b[0m 362ms/step - accuracy: 0.4066 - loss: 1.2092 - val_accuracy: 0.5968 - val_loss: 1.2365\n",
      "Epoch 31/100\n",
      "\u001b[1m8/8\u001b[0m \u001b[32m━━━━━━━━━━━━━━━━━━━━\u001b[0m\u001b[37m\u001b[0m \u001b[1m4s\u001b[0m 370ms/step - accuracy: 0.4456 - loss: 1.2062 - val_accuracy: 0.4355 - val_loss: 1.2344\n",
      "Epoch 32/100\n",
      "\u001b[1m8/8\u001b[0m \u001b[32m━━━━━━━━━━━━━━━━━━━━\u001b[0m\u001b[37m\u001b[0m \u001b[1m4s\u001b[0m 355ms/step - accuracy: 0.3739 - loss: 1.2083 - val_accuracy: 0.5645 - val_loss: 1.2014\n",
      "Epoch 33/100\n",
      "\u001b[1m8/8\u001b[0m \u001b[32m━━━━━━━━━━━━━━━━━━━━\u001b[0m\u001b[37m\u001b[0m \u001b[1m4s\u001b[0m 342ms/step - accuracy: 0.5251 - loss: 1.0869 - val_accuracy: 0.6129 - val_loss: 1.1881\n",
      "Epoch 34/100\n",
      "\u001b[1m8/8\u001b[0m \u001b[32m━━━━━━━━━━━━━━━━━━━━\u001b[0m\u001b[37m\u001b[0m \u001b[1m4s\u001b[0m 345ms/step - accuracy: 0.4619 - loss: 1.1748 - val_accuracy: 0.5806 - val_loss: 1.2271\n",
      "Epoch 35/100\n",
      "\u001b[1m8/8\u001b[0m \u001b[32m━━━━━━━━━━━━━━━━━━━━\u001b[0m\u001b[37m\u001b[0m \u001b[1m4s\u001b[0m 348ms/step - accuracy: 0.4785 - loss: 1.1593 - val_accuracy: 0.5645 - val_loss: 1.1903\n",
      "Epoch 36/100\n",
      "\u001b[1m8/8\u001b[0m \u001b[32m━━━━━━━━━━━━━━━━━━━━\u001b[0m\u001b[37m\u001b[0m \u001b[1m4s\u001b[0m 348ms/step - accuracy: 0.4513 - loss: 1.1472 - val_accuracy: 0.5323 - val_loss: 1.1798\n",
      "Epoch 37/100\n",
      "\u001b[1m8/8\u001b[0m \u001b[32m━━━━━━━━━━━━━━━━━━━━\u001b[0m\u001b[37m\u001b[0m \u001b[1m4s\u001b[0m 375ms/step - accuracy: 0.4194 - loss: 1.1417 - val_accuracy: 0.5323 - val_loss: 1.2039\n",
      "Epoch 38/100\n",
      "\u001b[1m8/8\u001b[0m \u001b[32m━━━━━━━━━━━━━━━━━━━━\u001b[0m\u001b[37m\u001b[0m \u001b[1m4s\u001b[0m 350ms/step - accuracy: 0.4975 - loss: 1.1244 - val_accuracy: 0.5000 - val_loss: 1.1999\n",
      "Epoch 39/100\n",
      "\u001b[1m8/8\u001b[0m \u001b[32m━━━━━━━━━━━━━━━━━━━━\u001b[0m\u001b[37m\u001b[0m \u001b[1m4s\u001b[0m 360ms/step - accuracy: 0.4791 - loss: 1.1165 - val_accuracy: 0.5806 - val_loss: 1.1840\n",
      "Epoch 40/100\n",
      "\u001b[1m8/8\u001b[0m \u001b[32m━━━━━━━━━━━━━━━━━━━━\u001b[0m\u001b[37m\u001b[0m \u001b[1m4s\u001b[0m 355ms/step - accuracy: 0.4652 - loss: 1.1488 - val_accuracy: 0.5161 - val_loss: 1.1660\n",
      "Epoch 41/100\n",
      "\u001b[1m8/8\u001b[0m \u001b[32m━━━━━━━━━━━━━━━━━━━━\u001b[0m\u001b[37m\u001b[0m \u001b[1m4s\u001b[0m 348ms/step - accuracy: 0.4742 - loss: 1.0893 - val_accuracy: 0.5323 - val_loss: 1.1423\n",
      "Epoch 42/100\n",
      "\u001b[1m8/8\u001b[0m \u001b[32m━━━━━━━━━━━━━━━━━━━━\u001b[0m\u001b[37m\u001b[0m \u001b[1m4s\u001b[0m 363ms/step - accuracy: 0.4969 - loss: 1.1020 - val_accuracy: 0.4677 - val_loss: 1.1535\n",
      "Epoch 43/100\n",
      "\u001b[1m8/8\u001b[0m \u001b[32m━━━━━━━━━━━━━━━━━━━━\u001b[0m\u001b[37m\u001b[0m \u001b[1m4s\u001b[0m 357ms/step - accuracy: 0.5076 - loss: 1.1035 - val_accuracy: 0.6129 - val_loss: 1.1394\n",
      "Epoch 44/100\n",
      "\u001b[1m8/8\u001b[0m \u001b[32m━━━━━━━━━━━━━━━━━━━━\u001b[0m\u001b[37m\u001b[0m \u001b[1m4s\u001b[0m 362ms/step - accuracy: 0.5421 - loss: 1.0557 - val_accuracy: 0.4839 - val_loss: 1.1693\n",
      "Epoch 45/100\n",
      "\u001b[1m8/8\u001b[0m \u001b[32m━━━━━━━━━━━━━━━━━━━━\u001b[0m\u001b[37m\u001b[0m \u001b[1m4s\u001b[0m 359ms/step - accuracy: 0.5419 - loss: 0.9847 - val_accuracy: 0.5484 - val_loss: 1.1540\n",
      "Epoch 46/100\n",
      "\u001b[1m8/8\u001b[0m \u001b[32m━━━━━━━━━━━━━━━━━━━━\u001b[0m\u001b[37m\u001b[0m \u001b[1m4s\u001b[0m 363ms/step - accuracy: 0.5031 - loss: 1.1575 - val_accuracy: 0.6129 - val_loss: 1.1617\n",
      "Epoch 47/100\n",
      "\u001b[1m8/8\u001b[0m \u001b[32m━━━━━━━━━━━━━━━━━━━━\u001b[0m\u001b[37m\u001b[0m \u001b[1m4s\u001b[0m 358ms/step - accuracy: 0.4643 - loss: 1.1274 - val_accuracy: 0.5161 - val_loss: 1.1471\n",
      "Epoch 48/100\n",
      "\u001b[1m8/8\u001b[0m \u001b[32m━━━━━━━━━━━━━━━━━━━━\u001b[0m\u001b[37m\u001b[0m \u001b[1m4s\u001b[0m 355ms/step - accuracy: 0.4787 - loss: 1.1153 - val_accuracy: 0.5323 - val_loss: 1.1334\n",
      "Epoch 49/100\n",
      "\u001b[1m8/8\u001b[0m \u001b[32m━━━━━━━━━━━━━━━━━━━━\u001b[0m\u001b[37m\u001b[0m \u001b[1m4s\u001b[0m 356ms/step - accuracy: 0.4507 - loss: 1.1603 - val_accuracy: 0.5968 - val_loss: 1.1297\n",
      "Epoch 50/100\n",
      "\u001b[1m8/8\u001b[0m \u001b[32m━━━━━━━━━━━━━━━━━━━━\u001b[0m\u001b[37m\u001b[0m \u001b[1m4s\u001b[0m 356ms/step - accuracy: 0.4538 - loss: 1.1195 - val_accuracy: 0.6290 - val_loss: 1.1099\n",
      "Epoch 51/100\n",
      "\u001b[1m8/8\u001b[0m \u001b[32m━━━━━━━━━━━━━━━━━━━━\u001b[0m\u001b[37m\u001b[0m \u001b[1m4s\u001b[0m 357ms/step - accuracy: 0.5614 - loss: 1.0457 - val_accuracy: 0.5968 - val_loss: 1.1214\n",
      "Epoch 52/100\n",
      "\u001b[1m8/8\u001b[0m \u001b[32m━━━━━━━━━━━━━━━━━━━━\u001b[0m\u001b[37m\u001b[0m \u001b[1m4s\u001b[0m 364ms/step - accuracy: 0.5247 - loss: 1.0435 - val_accuracy: 0.5806 - val_loss: 1.0993\n",
      "Epoch 53/100\n",
      "\u001b[1m8/8\u001b[0m \u001b[32m━━━━━━━━━━━━━━━━━━━━\u001b[0m\u001b[37m\u001b[0m \u001b[1m4s\u001b[0m 366ms/step - accuracy: 0.5692 - loss: 1.0691 - val_accuracy: 0.5161 - val_loss: 1.0868\n",
      "Epoch 54/100\n",
      "\u001b[1m8/8\u001b[0m \u001b[32m━━━━━━━━━━━━━━━━━━━━\u001b[0m\u001b[37m\u001b[0m \u001b[1m4s\u001b[0m 356ms/step - accuracy: 0.5449 - loss: 0.9829 - val_accuracy: 0.6290 - val_loss: 1.1091\n",
      "Epoch 55/100\n",
      "\u001b[1m8/8\u001b[0m \u001b[32m━━━━━━━━━━━━━━━━━━━━\u001b[0m\u001b[37m\u001b[0m \u001b[1m4s\u001b[0m 372ms/step - accuracy: 0.5627 - loss: 1.0132 - val_accuracy: 0.6129 - val_loss: 1.1063\n",
      "Epoch 56/100\n",
      "\u001b[1m8/8\u001b[0m \u001b[32m━━━━━━━━━━━━━━━━━━━━\u001b[0m\u001b[37m\u001b[0m \u001b[1m4s\u001b[0m 365ms/step - accuracy: 0.5741 - loss: 1.0608 - val_accuracy: 0.6129 - val_loss: 1.0816\n",
      "Epoch 57/100\n",
      "\u001b[1m8/8\u001b[0m \u001b[32m━━━━━━━━━━━━━━━━━━━━\u001b[0m\u001b[37m\u001b[0m \u001b[1m4s\u001b[0m 362ms/step - accuracy: 0.4869 - loss: 1.0246 - val_accuracy: 0.5645 - val_loss: 1.0998\n",
      "Epoch 58/100\n",
      "\u001b[1m8/8\u001b[0m \u001b[32m━━━━━━━━━━━━━━━━━━━━\u001b[0m\u001b[37m\u001b[0m \u001b[1m4s\u001b[0m 361ms/step - accuracy: 0.5083 - loss: 1.0214 - val_accuracy: 0.6129 - val_loss: 1.0526\n",
      "Epoch 59/100\n",
      "\u001b[1m8/8\u001b[0m \u001b[32m━━━━━━━━━━━━━━━━━━━━\u001b[0m\u001b[37m\u001b[0m \u001b[1m4s\u001b[0m 366ms/step - accuracy: 0.5911 - loss: 0.9928 - val_accuracy: 0.6129 - val_loss: 1.1335\n",
      "Epoch 60/100\n",
      "\u001b[1m8/8\u001b[0m \u001b[32m━━━━━━━━━━━━━━━━━━━━\u001b[0m\u001b[37m\u001b[0m \u001b[1m4s\u001b[0m 359ms/step - accuracy: 0.6048 - loss: 0.9886 - val_accuracy: 0.5968 - val_loss: 1.0788\n",
      "Epoch 61/100\n",
      "\u001b[1m8/8\u001b[0m \u001b[32m━━━━━━━━━━━━━━━━━━━━\u001b[0m\u001b[37m\u001b[0m \u001b[1m4s\u001b[0m 369ms/step - accuracy: 0.5923 - loss: 0.9883 - val_accuracy: 0.6613 - val_loss: 1.0733\n",
      "Epoch 62/100\n",
      "\u001b[1m8/8\u001b[0m \u001b[32m━━━━━━━━━━━━━━━━━━━━\u001b[0m\u001b[37m\u001b[0m \u001b[1m4s\u001b[0m 368ms/step - accuracy: 0.5414 - loss: 0.9856 - val_accuracy: 0.5645 - val_loss: 1.0867\n",
      "Epoch 63/100\n",
      "\u001b[1m8/8\u001b[0m \u001b[32m━━━━━━━━━━━━━━━━━━━━\u001b[0m\u001b[37m\u001b[0m \u001b[1m4s\u001b[0m 365ms/step - accuracy: 0.5204 - loss: 1.0290 - val_accuracy: 0.6129 - val_loss: 1.0758\n",
      "Epoch 64/100\n",
      "\u001b[1m8/8\u001b[0m \u001b[32m━━━━━━━━━━━━━━━━━━━━\u001b[0m\u001b[37m\u001b[0m \u001b[1m4s\u001b[0m 365ms/step - accuracy: 0.6077 - loss: 0.9519 - val_accuracy: 0.6290 - val_loss: 1.0578\n",
      "Epoch 65/100\n",
      "\u001b[1m8/8\u001b[0m \u001b[32m━━━━━━━━━━━━━━━━━━━━\u001b[0m\u001b[37m\u001b[0m \u001b[1m4s\u001b[0m 371ms/step - accuracy: 0.5632 - loss: 0.9960 - val_accuracy: 0.6129 - val_loss: 1.0058\n",
      "Epoch 66/100\n",
      "\u001b[1m8/8\u001b[0m \u001b[32m━━━━━━━━━━━━━━━━━━━━\u001b[0m\u001b[37m\u001b[0m \u001b[1m4s\u001b[0m 364ms/step - accuracy: 0.5471 - loss: 0.9497 - val_accuracy: 0.5645 - val_loss: 1.0615\n",
      "Epoch 67/100\n",
      "\u001b[1m8/8\u001b[0m \u001b[32m━━━━━━━━━━━━━━━━━━━━\u001b[0m\u001b[37m\u001b[0m \u001b[1m4s\u001b[0m 373ms/step - accuracy: 0.5905 - loss: 0.9234 - val_accuracy: 0.6774 - val_loss: 1.0290\n",
      "Epoch 68/100\n",
      "\u001b[1m8/8\u001b[0m \u001b[32m━━━━━━━━━━━━━━━━━━━━\u001b[0m\u001b[37m\u001b[0m \u001b[1m4s\u001b[0m 368ms/step - accuracy: 0.6001 - loss: 0.9776 - val_accuracy: 0.5484 - val_loss: 1.0872\n",
      "Epoch 69/100\n",
      "\u001b[1m8/8\u001b[0m \u001b[32m━━━━━━━━━━━━━━━━━━━━\u001b[0m\u001b[37m\u001b[0m \u001b[1m4s\u001b[0m 372ms/step - accuracy: 0.5712 - loss: 0.9250 - val_accuracy: 0.6129 - val_loss: 1.0597\n",
      "Epoch 70/100\n",
      "\u001b[1m8/8\u001b[0m \u001b[32m━━━━━━━━━━━━━━━━━━━━\u001b[0m\u001b[37m\u001b[0m \u001b[1m4s\u001b[0m 376ms/step - accuracy: 0.6058 - loss: 0.8812 - val_accuracy: 0.7097 - val_loss: 0.9888\n",
      "Epoch 71/100\n",
      "\u001b[1m8/8\u001b[0m \u001b[32m━━━━━━━━━━━━━━━━━━━━\u001b[0m\u001b[37m\u001b[0m \u001b[1m4s\u001b[0m 374ms/step - accuracy: 0.5797 - loss: 0.9791 - val_accuracy: 0.6129 - val_loss: 1.0260\n",
      "Epoch 72/100\n",
      "\u001b[1m8/8\u001b[0m \u001b[32m━━━━━━━━━━━━━━━━━━━━\u001b[0m\u001b[37m\u001b[0m \u001b[1m4s\u001b[0m 372ms/step - accuracy: 0.5733 - loss: 0.9214 - val_accuracy: 0.6613 - val_loss: 1.0048\n",
      "Epoch 73/100\n",
      "\u001b[1m8/8\u001b[0m \u001b[32m━━━━━━━━━━━━━━━━━━━━\u001b[0m\u001b[37m\u001b[0m \u001b[1m4s\u001b[0m 374ms/step - accuracy: 0.6078 - loss: 0.9461 - val_accuracy: 0.4839 - val_loss: 1.0651\n",
      "Epoch 74/100\n",
      "\u001b[1m8/8\u001b[0m \u001b[32m━━━━━━━━━━━━━━━━━━━━\u001b[0m\u001b[37m\u001b[0m \u001b[1m4s\u001b[0m 373ms/step - accuracy: 0.5633 - loss: 0.9562 - val_accuracy: 0.6452 - val_loss: 1.0007\n",
      "Epoch 75/100\n",
      "\u001b[1m8/8\u001b[0m \u001b[32m━━━━━━━━━━━━━━━━━━━━\u001b[0m\u001b[37m\u001b[0m \u001b[1m4s\u001b[0m 374ms/step - accuracy: 0.5115 - loss: 0.9783 - val_accuracy: 0.5968 - val_loss: 1.0466\n",
      "Epoch 76/100\n",
      "\u001b[1m8/8\u001b[0m \u001b[32m━━━━━━━━━━━━━━━━━━━━\u001b[0m\u001b[37m\u001b[0m \u001b[1m4s\u001b[0m 370ms/step - accuracy: 0.5190 - loss: 0.9983 - val_accuracy: 0.5806 - val_loss: 1.0067\n",
      "Epoch 77/100\n",
      "\u001b[1m8/8\u001b[0m \u001b[32m━━━━━━━━━━━━━━━━━━━━\u001b[0m\u001b[37m\u001b[0m \u001b[1m4s\u001b[0m 374ms/step - accuracy: 0.6422 - loss: 0.9621 - val_accuracy: 0.6935 - val_loss: 0.9915\n",
      "Epoch 78/100\n",
      "\u001b[1m8/8\u001b[0m \u001b[32m━━━━━━━━━━━━━━━━━━━━\u001b[0m\u001b[37m\u001b[0m \u001b[1m4s\u001b[0m 370ms/step - accuracy: 0.5730 - loss: 0.9558 - val_accuracy: 0.6613 - val_loss: 1.0415\n",
      "Epoch 79/100\n",
      "\u001b[1m8/8\u001b[0m \u001b[32m━━━━━━━━━━━━━━━━━━━━\u001b[0m\u001b[37m\u001b[0m \u001b[1m4s\u001b[0m 372ms/step - accuracy: 0.5695 - loss: 0.9697 - val_accuracy: 0.5645 - val_loss: 1.0130\n",
      "Epoch 80/100\n",
      "\u001b[1m8/8\u001b[0m \u001b[32m━━━━━━━━━━━━━━━━━━━━\u001b[0m\u001b[37m\u001b[0m \u001b[1m4s\u001b[0m 375ms/step - accuracy: 0.5818 - loss: 0.9912 - val_accuracy: 0.5968 - val_loss: 1.0423\n",
      "Epoch 81/100\n",
      "\u001b[1m8/8\u001b[0m \u001b[32m━━━━━━━━━━━━━━━━━━━━\u001b[0m\u001b[37m\u001b[0m \u001b[1m4s\u001b[0m 374ms/step - accuracy: 0.5236 - loss: 0.9362 - val_accuracy: 0.6774 - val_loss: 0.9713\n",
      "Epoch 82/100\n",
      "\u001b[1m8/8\u001b[0m \u001b[32m━━━━━━━━━━━━━━━━━━━━\u001b[0m\u001b[37m\u001b[0m \u001b[1m4s\u001b[0m 375ms/step - accuracy: 0.5875 - loss: 0.9531 - val_accuracy: 0.6774 - val_loss: 0.9764\n",
      "Epoch 83/100\n",
      "\u001b[1m8/8\u001b[0m \u001b[32m━━━━━━━━━━━━━━━━━━━━\u001b[0m\u001b[37m\u001b[0m \u001b[1m4s\u001b[0m 371ms/step - accuracy: 0.5885 - loss: 0.9399 - val_accuracy: 0.6290 - val_loss: 1.0357\n",
      "Epoch 84/100\n",
      "\u001b[1m8/8\u001b[0m \u001b[32m━━━━━━━━━━━━━━━━━━━━\u001b[0m\u001b[37m\u001b[0m \u001b[1m4s\u001b[0m 373ms/step - accuracy: 0.6124 - loss: 0.9300 - val_accuracy: 0.7419 - val_loss: 0.9669\n",
      "Epoch 85/100\n",
      "\u001b[1m8/8\u001b[0m \u001b[32m━━━━━━━━━━━━━━━━━━━━\u001b[0m\u001b[37m\u001b[0m \u001b[1m4s\u001b[0m 383ms/step - accuracy: 0.5061 - loss: 1.0093 - val_accuracy: 0.7258 - val_loss: 0.9967\n",
      "Epoch 86/100\n",
      "\u001b[1m8/8\u001b[0m \u001b[32m━━━━━━━━━━━━━━━━━━━━\u001b[0m\u001b[37m\u001b[0m \u001b[1m4s\u001b[0m 379ms/step - accuracy: 0.6643 - loss: 0.9069 - val_accuracy: 0.6935 - val_loss: 1.0022\n",
      "Epoch 87/100\n",
      "\u001b[1m8/8\u001b[0m \u001b[32m━━━━━━━━━━━━━━━━━━━━\u001b[0m\u001b[37m\u001b[0m \u001b[1m4s\u001b[0m 378ms/step - accuracy: 0.5763 - loss: 0.9122 - val_accuracy: 0.6774 - val_loss: 1.0033\n",
      "Epoch 88/100\n",
      "\u001b[1m8/8\u001b[0m \u001b[32m━━━━━━━━━━━━━━━━━━━━\u001b[0m\u001b[37m\u001b[0m \u001b[1m4s\u001b[0m 380ms/step - accuracy: 0.5832 - loss: 0.9297 - val_accuracy: 0.6613 - val_loss: 0.9537\n",
      "Epoch 89/100\n",
      "\u001b[1m8/8\u001b[0m \u001b[32m━━━━━━━━━━━━━━━━━━━━\u001b[0m\u001b[37m\u001b[0m \u001b[1m4s\u001b[0m 382ms/step - accuracy: 0.6281 - loss: 0.8937 - val_accuracy: 0.7097 - val_loss: 0.9516\n",
      "Epoch 90/100\n",
      "\u001b[1m8/8\u001b[0m \u001b[32m━━━━━━━━━━━━━━━━━━━━\u001b[0m\u001b[37m\u001b[0m \u001b[1m4s\u001b[0m 376ms/step - accuracy: 0.6899 - loss: 0.8276 - val_accuracy: 0.6452 - val_loss: 0.9283\n",
      "Epoch 91/100\n",
      "\u001b[1m8/8\u001b[0m \u001b[32m━━━━━━━━━━━━━━━━━━━━\u001b[0m\u001b[37m\u001b[0m \u001b[1m4s\u001b[0m 385ms/step - accuracy: 0.6481 - loss: 0.8828 - val_accuracy: 0.6774 - val_loss: 0.9624\n",
      "Epoch 92/100\n",
      "\u001b[1m8/8\u001b[0m \u001b[32m━━━━━━━━━━━━━━━━━━━━\u001b[0m\u001b[37m\u001b[0m \u001b[1m4s\u001b[0m 381ms/step - accuracy: 0.6039 - loss: 0.9302 - val_accuracy: 0.6129 - val_loss: 0.9766\n",
      "Epoch 93/100\n",
      "\u001b[1m8/8\u001b[0m \u001b[32m━━━━━━━━━━━━━━━━━━━━\u001b[0m\u001b[37m\u001b[0m \u001b[1m4s\u001b[0m 380ms/step - accuracy: 0.6304 - loss: 0.8788 - val_accuracy: 0.6613 - val_loss: 0.9942\n",
      "Epoch 94/100\n",
      "\u001b[1m8/8\u001b[0m \u001b[32m━━━━━━━━━━━━━━━━━━━━\u001b[0m\u001b[37m\u001b[0m \u001b[1m4s\u001b[0m 379ms/step - accuracy: 0.5727 - loss: 0.9173 - val_accuracy: 0.6129 - val_loss: 0.9872\n",
      "Epoch 95/100\n",
      "\u001b[1m8/8\u001b[0m \u001b[32m━━━━━━━━━━━━━━━━━━━━\u001b[0m\u001b[37m\u001b[0m \u001b[1m4s\u001b[0m 382ms/step - accuracy: 0.6438 - loss: 0.8552 - val_accuracy: 0.6290 - val_loss: 0.9669\n",
      "Epoch 96/100\n",
      "\u001b[1m8/8\u001b[0m \u001b[32m━━━━━━━━━━━━━━━━━━━━\u001b[0m\u001b[37m\u001b[0m \u001b[1m4s\u001b[0m 380ms/step - accuracy: 0.6552 - loss: 0.8320 - val_accuracy: 0.6290 - val_loss: 0.9995\n",
      "Epoch 97/100\n",
      "\u001b[1m8/8\u001b[0m \u001b[32m━━━━━━━━━━━━━━━━━━━━\u001b[0m\u001b[37m\u001b[0m \u001b[1m4s\u001b[0m 379ms/step - accuracy: 0.6473 - loss: 0.8652 - val_accuracy: 0.7581 - val_loss: 0.9282\n",
      "Epoch 98/100\n",
      "\u001b[1m8/8\u001b[0m \u001b[32m━━━━━━━━━━━━━━━━━━━━\u001b[0m\u001b[37m\u001b[0m \u001b[1m4s\u001b[0m 389ms/step - accuracy: 0.6396 - loss: 0.8588 - val_accuracy: 0.6290 - val_loss: 0.9705\n",
      "Epoch 99/100\n",
      "\u001b[1m8/8\u001b[0m \u001b[32m━━━━━━━━━━━━━━━━━━━━\u001b[0m\u001b[37m\u001b[0m \u001b[1m4s\u001b[0m 377ms/step - accuracy: 0.6071 - loss: 0.8827 - val_accuracy: 0.6613 - val_loss: 0.9314\n",
      "Epoch 100/100\n",
      "\u001b[1m8/8\u001b[0m \u001b[32m━━━━━━━━━━━━━━━━━━━━\u001b[0m\u001b[37m\u001b[0m \u001b[1m4s\u001b[0m 381ms/step - accuracy: 0.6024 - loss: 0.8718 - val_accuracy: 0.7097 - val_loss: 0.9120\n",
      "\u001b[1m2/2\u001b[0m \u001b[32m━━━━━━━━━━━━━━━━━━━━\u001b[0m\u001b[37m\u001b[0m \u001b[1m0s\u001b[0m 180ms/step - accuracy: 0.6499 - loss: 1.0164\n",
      "Validation Loss: 0.975663423538208\n",
      "Validation Accuracy: 0.6935483813285828\n"
     ]
    },
    {
     "data": {
      "image/png": "[encoded data removed]",
      "text/plain": [
       "<Figure size 640x480 with 1 Axes>"
      ]
     },
     "metadata": {},
     "output_type": "display_data"
    },
    {
     "name": "stdout",
     "output_type": "stream",
     "text": [
      "\u001b[1m3/3\u001b[0m \u001b[32m━━━━━━━━━━━━━━━━━━━━\u001b[0m\u001b[37m\u001b[0m \u001b[1m0s\u001b[0m 118ms/step\n",
      "3/3 - 0s - 158ms/step - accuracy: 0.6104 - loss: 0.9905\n",
      "Test Loss: 0.9905092120170593\n",
      "Test Accuracy: 0.6103895902633667\n",
      "              precision    recall  f1-score   support\n",
      "\n",
      "           0       0.62      0.56      0.59        27\n",
      "           1       1.00      0.60      0.75        20\n",
      "           2       0.91      0.67      0.77        15\n",
      "           3       0.33      0.67      0.44        15\n",
      "\n",
      "    accuracy                           0.61        77\n",
      "   macro avg       0.72      0.62      0.64        77\n",
      "weighted avg       0.72      0.61      0.64        77\n",
      "\n",
      "[[15  0  1 11]\n",
      " [ 2 12  0  6]\n",
      " [ 2  0 10  3]\n",
      " [ 5  0  0 10]]\n"
     ]
    }
   ],
   "source": [
    "from tensorflow.keras.models import Sequential\n",
    "from tensorflow.keras.layers import Conv2D, MaxPooling2D, Flatten, Dense, Dropout\n",
    "from tensorflow.keras.optimizers import Adam\n",
    "from tensorflow.keras.preprocessing.image import ImageDataGenerator\n",
    "from tensorflow.keras.callbacks import EarlyStopping\n",
    "from sklearn.metrics import classification_report, confusion_matrix\n",
    "import matplotlib.pyplot as plt\n",
    "import numpy as np\n",
    "\n",
    "# Define the data augmentation configuration\n",
    "datagen = ImageDataGenerator(\n",
    "    rotation_range=10,\n",
    "    width_shift_range=0.1,\n",
    "    height_shift_range=0.1,\n",
    "    shear_range=0.1,\n",
    "    zoom_range=0.1,\n",
    "    horizontal_flip=True,\n",
    "    fill_mode='nearest'\n",
    ")\n",
    "\n",
    "# Define the model\n",
    "model_skeleton = Sequential([\n",
    "    Conv2D(96, (3, 3), activation='relu', input_shape=(150, 150, 3), padding='valid', name='conv2d_2'),\n",
    "    MaxPooling2D((2, 2), name='max_pooling2d_2'),\n",
    "    Conv2D(64, (3, 3), activation='relu', padding='valid', name='conv2d_3'),\n",
    "    Dropout(0.5),\n",
    "    MaxPooling2D((2, 2), name='max_pooling2d_3'),\n",
    "    Flatten(name='flatten_1'),\n",
    "    Dense(128, activation='relu', name='dense_2'),\n",
    "    Dropout(0.5),\n",
    "    Dense(4, activation='softmax', name='dense_3')\n",
    "])\n",
    "\n",
    "model_skeleton.compile(optimizer=Adam(learning_rate = 0.0001), loss='categorical_crossentropy', metrics=['accuracy'])\n",
    "\n",
    "# Fit the data augmentation generator to your training data\n",
    "datagen.fit(x_train)\n",
    "\n",
    "# Create data generators for training and validation\n",
    "train_generator = datagen.flow(x_train, y_train, batch_size=32)\n",
    "val_generator = datagen.flow(x_val, y_val, batch_size=32)\n",
    "\n",
    "# Define early stopping callback\n",
    "early_stopping = EarlyStopping(\n",
    "    monitor='val_accuracy',   \n",
    "    patience=20,           \n",
    "    restore_best_weights=True )\n",
    "\n",
    "# Train the model with the augmented data and early stopping\n",
    "history = model_skeleton.fit(\n",
    "    datagen.flow(x_train, y_train, batch_size=32),\n",
    "    epochs=100,\n",
    "    validation_data=val_generator,\n",
    "\n",
    ")\n",
    "\n",
    "# Evaluate the model on the validation set\n",
    "val_loss, val_accuracy = model_skeleton.evaluate(val_generator)\n",
    "print(f\"Validation Loss: {val_loss}\")\n",
    "print(f\"Validation Accuracy: {val_accuracy}\")\n",
    "\n",
    "# Plot training accuracy and validation accuracy\n",
    "plt.plot(history.history['accuracy'], label='Training Accuracy')\n",
    "plt.plot(history.history['val_accuracy'], label='Validation Accuracy')\n",
    "plt.xlabel('Epochs')\n",
    "plt.ylabel('Accuracy')\n",
    "plt.title('Training and Validation Accuracy')\n",
    "plt.legend()\n",
    "plt.show()\n",
    "\n",
    "# Evaluate the trained model on the test dataset\n",
    "y_pred = model_skeleton.predict(x_test)\n",
    "test_loss, test_accuracy = model_skeleton.evaluate(x_test, y_test, verbose=2)\n",
    "print(f\"Test Loss: {test_loss}\")\n",
    "print(f\"Test Accuracy: {test_accuracy}\")\n",
    "\n",
    "y_pred_classes = np.argmax(y_pred, axis=1)\n",
    "y_true_classes = np.argmax(y_test, axis=1)\n",
    "\n",
    "print(classification_report(y_true_classes, y_pred_classes))\n",
    "print(confusion_matrix(y_true_classes, y_pred_classes))\n",
    "\n",
    "# Save the trained model to a file\n",
    "model_skeleton.save('models/cnn_aug.keras')\n"
   ]
  },
  {
   "cell_type": "markdown",
   "metadata": {},
   "source": [
    "## Summary and Recommendations\n",
    "\n",
    "### *Model 2: `cnn_hypertuned_dropout`*\n",
    "- *Best Performance*: Overall with the highest test accuracy (81.8%) and relatively balanced precision and recall across classes.\n",
    "- *Recommendation*: This model is likely the best choice as it performs well across most metrics, particularly in terms of test accuracy.\n",
    "\n",
    "### *Model 1: `cnn_hypertuned`*\n",
    "- *Good Performance*: With decent accuracy and balanced precision/recall, but slightly lower than Model 2.\n",
    "- *Recommendation*: This model is a strong contender but does not outperform Model 2 in terms of accuracy.\n",
    "\n",
    "### *Model 3: `cnn_aug`*\n",
    "- *Lower Performance*: With the lowest accuracy and higher loss values, suggesting that data augmentation might not have improved performance in this case.\n",
    "- *Recommendation*: This model is less effective compared to the others and may not be the best choice.\n",
    "\n",
    "Based on these comparisons, *Model 2 (`cnn_hypertuned_dropout`)* is the most effective model among the three, considering its higher accuracy and balanced performance metrics.\n"
   ]
  }
 ],
 "metadata": {
  "kernelspec": {
   "display_name": "dsi_participant",
   "language": "python",
   "name": "python3"
  },
  "language_info": {
   "codemirror_mode": {
    "name": "ipython",
    "version": 3
   },
   "file_extension": ".py",
   "mimetype": "text/x-python",
   "name": "python",
   "nbconvert_exporter": "python",
   "pygments_lexer": "ipython3",
   "version": "3.9.15"
  }
 },
 "nbformat": 4,
 "nbformat_minor": 2
}
